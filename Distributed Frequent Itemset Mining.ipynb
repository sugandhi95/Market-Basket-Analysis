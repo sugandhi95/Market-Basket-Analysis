{
  "nbformat": 4,
  "nbformat_minor": 0,
  "metadata": {
    "colab": {
      "name": "Project - 2 Final Version.ipynb",
      "provenance": [],
      "collapsed_sections": []
    },
    "kernelspec": {
      "name": "python3",
      "display_name": "Python 3"
    },
    "accelerator": "TPU"
  },
  "cells": [
    {
      "cell_type": "markdown",
      "metadata": {
        "id": "3u4RtY1pVgbK"
      },
      "source": [
        "Installing and importing the required modules"
      ]
    },
    {
      "cell_type": "code",
      "metadata": {
        "id": "aCHYpGLGLWoA",
        "outputId": "514c6336-5b14-4048-dc9a-9d6973acdd7f",
        "colab": {
          "base_uri": "https://localhost:8080/",
          "height": 51
        }
      },
      "source": [
        "!pip install pyspark"
      ],
      "execution_count": null,
      "outputs": [
        {
          "output_type": "stream",
          "text": [
            "Requirement already satisfied: pyspark in /usr/local/lib/python3.6/dist-packages (3.0.1)\n",
            "Requirement already satisfied: py4j==0.10.9 in /usr/local/lib/python3.6/dist-packages (from pyspark) (0.10.9)\n"
          ],
          "name": "stdout"
        }
      ]
    },
    {
      "cell_type": "code",
      "metadata": {
        "id": "dWcUejMNLlAv"
      },
      "source": [
        "import sys\n",
        "from pyspark import SparkContext, SparkConf\n",
        "import re\n",
        "import itertools\n",
        "from functools import reduce\n",
        "from itertools import chain\n",
        "from collections import OrderedDict"
      ],
      "execution_count": null,
      "outputs": []
    },
    {
      "cell_type": "markdown",
      "metadata": {
        "id": "OnlkFqQpVlnM"
      },
      "source": [
        "Creating a Spark context"
      ]
    },
    {
      "cell_type": "code",
      "metadata": {
        "id": "5cWmFeCwLluX"
      },
      "source": [
        "# create Spark context with necessary configuration\n",
        "sc = SparkContext(\"local\",\"PySpark Apriori\")"
      ],
      "execution_count": null,
      "outputs": []
    },
    {
      "cell_type": "code",
      "metadata": {
        "id": "49wZ6JYhLwLK",
        "outputId": "d70e373b-18e6-491e-b84a-cbcf9fb70fe9",
        "colab": {
          "base_uri": "https://localhost:8080/",
          "height": 34
        }
      },
      "source": [
        "from google.colab import drive\n",
        "drive.mount('/content/drive')"
      ],
      "execution_count": null,
      "outputs": [
        {
          "output_type": "stream",
          "text": [
            "Mounted at /content/drive\n"
          ],
          "name": "stdout"
        }
      ]
    },
    {
      "cell_type": "code",
      "metadata": {
        "id": "22VT1zz8Lo9G"
      },
      "source": [
        "file = '/content/drive/My Drive/Big Data Analytics/Project 1/browsing.txt'\n",
        "#file = '/content/drive/My Drive/Big Data Analytics/Project 1/browsing copy 2.txt'"
      ],
      "execution_count": null,
      "outputs": []
    },
    {
      "cell_type": "markdown",
      "metadata": {
        "id": "vsxTgCUxVo7t"
      },
      "source": [
        "Reading the file stored on Google Drive"
      ]
    },
    {
      "cell_type": "code",
      "metadata": {
        "id": "4p3EQ4G7MOpI"
      },
      "source": [
        "fileRDD = sc.textFile(file, minPartitions=30)"
      ],
      "execution_count": null,
      "outputs": []
    },
    {
      "cell_type": "code",
      "metadata": {
        "id": "GqyLRg5kY1Dt",
        "outputId": "18860878-e839-492d-e8e1-486ad98e2875",
        "colab": {
          "base_uri": "https://localhost:8080/",
          "height": 102
        }
      },
      "source": [
        "fileRDD.take(5)"
      ],
      "execution_count": null,
      "outputs": [
        {
          "output_type": "execute_result",
          "data": {
            "text/plain": [
              "['FRO11987 ELE17451 ELE89019 SNA90258 GRO99222 ',\n",
              " 'GRO99222 GRO12298 FRO12685 ELE91550 SNA11465 ELE26917 ELE52966 FRO90334 SNA30755 ELE17451 FRO84225 SNA80192 ',\n",
              " 'ELE17451 GRO73461 DAI22896 SNA99873 FRO86643 ',\n",
              " 'ELE17451 ELE37798 FRO86643 GRO56989 ELE23393 SNA11465 ',\n",
              " 'ELE17451 SNA69641 FRO86643 FRO78087 SNA11465 GRO39357 ELE28573 ELE11375 DAI54444 ']"
            ]
          },
          "metadata": {
            "tags": []
          },
          "execution_count": 102
        }
      ]
    },
    {
      "cell_type": "markdown",
      "metadata": {
        "id": "nX9hKC_0h49V"
      },
      "source": [
        "Converting all baskets to sets\n"
      ]
    },
    {
      "cell_type": "code",
      "metadata": {
        "id": "zqpbsmYflDTS"
      },
      "source": [
        "fileRDD = fileRDD.map(lambda x: x.split()) \\\n",
        "       .map(set)"
      ],
      "execution_count": null,
      "outputs": []
    },
    {
      "cell_type": "markdown",
      "metadata": {
        "id": "y9aDfCisJEOX"
      },
      "source": [
        "**Generating singletons above support level (>=85)**"
      ]
    },
    {
      "cell_type": "code",
      "metadata": {
        "id": "Io1UQwdpmrWz"
      },
      "source": [
        "fullsingleRDD = fileRDD.flatMap(lambda x:x) \\\n",
        "                .map(lambda x: (x,1)) \\\n",
        "                .reduceByKey(lambda a,b: a+b) \\\n",
        "                .filter(lambda x: x[1] >= 85)"
      ],
      "execution_count": null,
      "outputs": []
    },
    {
      "cell_type": "code",
      "metadata": {
        "id": "AxcajUK9mxjz",
        "outputId": "fecb2db0-2115-473a-8fe4-d321a9616dbd",
        "colab": {
          "base_uri": "https://localhost:8080/",
          "height": 187
        }
      },
      "source": [
        "fullsingleRDD.take(10)"
      ],
      "execution_count": null,
      "outputs": [
        {
          "output_type": "execute_result",
          "data": {
            "text/plain": [
              "[('GRO36567', 832),\n",
              " ('SNA66979', 703),\n",
              " ('FRO62970', 115),\n",
              " ('SNA14713', 188),\n",
              " ('FRO94523', 390),\n",
              " ('DAI88807', 1316),\n",
              " ('SNA96271', 1295),\n",
              " ('ELE15527', 332),\n",
              " ('SNA38068', 811),\n",
              " ('ELE55721', 169)]"
            ]
          },
          "metadata": {
            "tags": []
          },
          "execution_count": 107
        }
      ]
    },
    {
      "cell_type": "code",
      "metadata": {
        "id": "fmaB4Poz8eWv"
      },
      "source": [
        "newRDD = fullsingleRDD.filter(lambda x: x[1] >= 25) \\\n",
        "                .map(lambda x: x[0])"
      ],
      "execution_count": null,
      "outputs": []
    },
    {
      "cell_type": "code",
      "metadata": {
        "id": "bqL1gx8O2L3c",
        "outputId": "8f76b6da-21c8-407e-910c-166a1c8cfa9e",
        "colab": {
          "base_uri": "https://localhost:8080/",
          "height": 187
        }
      },
      "source": [
        "# Number of baskets containing respective item, with support = 85\n",
        "newRDD.take(10)"
      ],
      "execution_count": null,
      "outputs": [
        {
          "output_type": "execute_result",
          "data": {
            "text/plain": [
              "['GRO36567',\n",
              " 'FRO31317',\n",
              " 'SNA96271',\n",
              " 'ELE15527',\n",
              " 'SNA38068',\n",
              " 'GRO15017',\n",
              " 'GRO21487',\n",
              " 'GRO33815',\n",
              " 'DAI55911',\n",
              " 'GRO85051']"
            ]
          },
          "metadata": {
            "tags": []
          },
          "execution_count": 336
        }
      ]
    },
    {
      "cell_type": "code",
      "metadata": {
        "id": "JcUQ4IEB99Q8"
      },
      "source": [
        "new_b = sc.broadcast(newRDD.collect())"
      ],
      "execution_count": null,
      "outputs": []
    },
    {
      "cell_type": "markdown",
      "metadata": {
        "id": "W8IETC6WJcs6"
      },
      "source": [
        "Converting RDD to iterable form:\n",
        "exRDD = [a, b, c, d]\n",
        "to\n",
        "exRDD2 = [[a, b, c, d]]"
      ]
    },
    {
      "cell_type": "code",
      "metadata": {
        "id": "rguCpsdwokot"
      },
      "source": [
        "ts = fullsingleRDD.filter(lambda x: x[1] >= 25) \\\n",
        "                .map(lambda x: x[0]).map(lambda x: (1, x)).reduceByKey(lambda a, b: a+\",\"+b).map(lambda x: x[1].split(\",\"))\n",
        "#.map(lambda x: (x[1]))"
      ],
      "execution_count": null,
      "outputs": []
    },
    {
      "cell_type": "code",
      "metadata": {
        "id": "oLNzKBuXp-fJ"
      },
      "source": [
        "ts.take(2)"
      ],
      "execution_count": null,
      "outputs": []
    },
    {
      "cell_type": "markdown",
      "metadata": {
        "id": "w8TXSAqaLXOo"
      },
      "source": [
        "**Function to generate n-combinations from original basket RDD**"
      ]
    },
    {
      "cell_type": "code",
      "metadata": {
        "id": "2cHEn-KA176x"
      },
      "source": [
        "def comb(x, broad, n):\n",
        "  y = frozenset(x)\n",
        "  for item in broad:\n",
        "    if n == 2:\n",
        "      i = frozenset([item])\n",
        "    else:\n",
        "      i = frozenset(item)\n",
        "    if i.issubset(y):\n",
        "      comb = list(itertools.combinations(x, n))\n",
        "      try:\n",
        "        combs = [(tuple(sorted(x)),1) for x in comb]\n",
        "        return combs \n",
        "      except:\n",
        "        pass"
      ],
      "execution_count": null,
      "outputs": []
    },
    {
      "cell_type": "markdown",
      "metadata": {
        "id": "_kgI0KHSR4oS"
      },
      "source": [
        "**Function to generate n-combinations from original basket RDD, for association rule mining**"
      ]
    },
    {
      "cell_type": "code",
      "metadata": {
        "id": "MFEe2x7LbH3d"
      },
      "source": [
        "def gen_comb(x, n):\n",
        "  if n == 1:\n",
        "    combos = list(x[0])\n",
        "  # Calculate combinations only when parameter n > 1  \n",
        "  elif n > 1:  \n",
        "    y = list(x[0])\n",
        "    combos = itertools.combinations(y,n)\n",
        "  cmbs = []\n",
        "  for c in combos:\n",
        "    if n == 1:\n",
        "      cmbs.append(((c), list(x)))\n",
        "    elif n > 1:\n",
        "      c = list(c)\n",
        "      #c.sort()\n",
        "    # Returns ((<n-combination>, basket)) for every combination generated from basket\n",
        "      cmbs.append((tuple(c), list(x)))\n",
        "  return cmbs"
      ],
      "execution_count": null,
      "outputs": []
    },
    {
      "cell_type": "markdown",
      "metadata": {
        "id": "FE7uCnrE3JQD"
      },
      "source": [
        "**Function to compute the confidence of each rule, and returning it only if it is >= the confidence parameter that is passed to the function**"
      ]
    },
    {
      "cell_type": "code",
      "metadata": {
        "id": "pwdSURoV3I3N"
      },
      "source": [
        "def get_conf(x, c, n):\n",
        "  if n == 2:\n",
        "    denom = [x[0]]\n",
        "  else:\n",
        "    denom = list(x[0])\n",
        "  # Confidence (I -> j) = Support (I u j)/Support of I\n",
        "  conf = round(x[1][1][1]/x[1][0]*100, 2)\n",
        "  if conf >= c:\n",
        "    left = list(x[1][1][0])\n",
        "    #left.remove(denom)\n",
        "    lft = [x for x in left if x not in denom]\n",
        "    rule = str(denom)+\" -> \"+str(lft)+\" Confidence = \"+str(conf)+\"%\"\n",
        "    return (rule, conf)\n",
        "  else:\n",
        "    pass\n"
      ],
      "execution_count": null,
      "outputs": []
    },
    {
      "cell_type": "markdown",
      "metadata": {
        "id": "6NaKTlPhSOgi"
      },
      "source": [
        "**Recursive Apriori function**"
      ]
    },
    {
      "cell_type": "code",
      "metadata": {
        "id": "1fJ8bh8kGi7E"
      },
      "source": [
        "# n starts at 2, because singletons have already been generated\n",
        "n = 2\n",
        "rulez = sc.parallelize([])\n",
        "# Function to use the apriori algorithm to generate association rules:\n",
        "# Parameters:\n",
        "# 1. prevRDD: RDD of frequent items from previous iteration that will be used to generate candidate item sets\n",
        "# 2. originalRDD: The original RDD that has all the baskets\n",
        "# 3. s: Support (>= 85)\n",
        "# 4. k: To generate k-combinations (4)\n",
        "# 5. n: n-combinations at which recursive algorithm starts\n",
        "# 6. c: Confidence threshold above which rules are deemed relevant (>= 90)\n",
        "# 7. rulez: RDD to store association rules\n",
        "def apriori(prevRDD, originalRDD, s, k, n, c, rulez):\n",
        "  if n <= k:\n",
        "    prev = prevRDD.map(lambda x: x[0])\n",
        "    # Broadcasting frequent n-combinations to use\n",
        "    freq_broad = sc.broadcast(prev.collect())\n",
        "    # n-combinations of frequent items\n",
        "    combos = originalRDD.map(lambda x: comb(x, freq_broad.value, n)) \\\n",
        "                        .filter(bool) \\\n",
        "                        .flatMap(lambda x: x) \\\n",
        "                        .reduceByKey(lambda a, b: a+b) \\\n",
        "                        .filter(lambda x: x[1] >= s)\n",
        "    print(\"Truly Frequent items:\")\n",
        "    print(combos.take(10))\n",
        "    # List of frequent items that will be used in subsequent steps to generate the next order of candidate items\n",
        "    frequent = combos.map(lambda x: x[0]) \\\n",
        "                         .flatMap(lambda x:x) \\\n",
        "                         .map(lambda x: (1, x)) \\\n",
        "                         .reduceByKey(lambda a, b: a+\",\"+b) \\\n",
        "                         .map(lambda x: x[1].split(\",\")) \n",
        "    print(\"List of freq items:\")\n",
        "    print(frequent.take(5))\n",
        "    print()\n",
        "    # Association rules\n",
        "    # 1. Count of frequent singletons in frequent items\n",
        "    #prevRDD = prevRDD.map(lambda x: (frozenset([x[0]]), x[1]))\n",
        "    print(\"Singles:\")\n",
        "    print(prevRDD.take(10))\n",
        "    print()\n",
        "    # 2. Exploding frequent items for subsequent join with singles\n",
        "    explRDD = combos.map(lambda x: gen_comb(x,(n-1))) \\\n",
        "                    .flatMap(lambda x:x) \\\n",
        "                    .map(lambda x: (x[0], tuple(x[1]))) \n",
        "    print(\"Explosion:\")\n",
        "    print(explRDD.take(10))\n",
        "    print()\n",
        "    # 3. Conducting an inner join between singles and truly frequent items\n",
        "    jointRDD = prevRDD.join(explRDD)\n",
        "    print(\"Joint:\")\n",
        "    print(jointRDD.take(10))\n",
        "    print()\n",
        "    # 4. Getting association rules that have a confidence above the threshold\n",
        "    assocRD = jointRDD.map(lambda x: get_conf(x, c, n))\\\n",
        "                      .filter(bool) \\\n",
        "                      .filter(lambda x: x[1] >= c) \\\n",
        "                      .sortBy(lambda x: x[1], ascending = False) \\\n",
        "                      .map(lambda x: x[0]) \n",
        "    print(\"Association rules:\")\n",
        "    print(assocRD.take(15)) \n",
        "    print()   \n",
        "    rulez = rulez.union(assocRD)\n",
        "    print(\"Rules:\")\n",
        "    print(rulez.take(10))  \n",
        "    freq_broad.unpersist()\n",
        "    return apriori(combos, originalRDD, s, k, n+1, c, rulez)\n",
        "  else:\n",
        "    return rulez\n",
        "    #pass"
      ],
      "execution_count": null,
      "outputs": []
    },
    {
      "cell_type": "code",
      "metadata": {
        "id": "UWPMwBb9O24y",
        "outputId": "f6cad192-8e92-4535-c024-b23e3ea3dfe8",
        "colab": {
          "base_uri": "https://localhost:8080/",
          "height": 1000
        }
      },
      "source": [
        "# Generating association rules using:\n",
        "# 1. The RDD of frequent singletons, the original RDD\n",
        "# 2. The original RDD\n",
        "# 3. Support = 85\n",
        "# 4. Desired number of items in frequent itemsets = 4\n",
        "# 5. Starting at pairs (2)\n",
        "# 6. Confidence = 90%\n",
        "# 7. rulez to store the association rules to save to a text file later\n",
        "rools = apriori(fullsingleRDD, fileRDD, 85, 4, 2, 90, rulez)"
      ],
      "execution_count": null,
      "outputs": [
        {
          "output_type": "stream",
          "text": [
            "['GRO36567', 'SNA66979', 'FRO62970']\n",
            "Truly Frequent items:\n",
            "[(('ELE17451', 'SNA47306'), 88), (('DAI48891', 'GRO36567'), 128), (('DAI22896', 'SNA72163'), 227), (('FRO31317', 'GRO73461'), 395), (('DAI62779', 'ELE17451'), 1592), (('DAI62779', 'FRO32293'), 299), (('ELE17451', 'SNA45677'), 304), (('FRO40251', 'FRO78087'), 215), (('DAI62779', 'ELE20398'), 113), (('FRO40251', 'FRO92469'), 835)]\n",
            "List of freq items:\n",
            "[['ELE17451', 'SNA47306', 'DAI48891', 'GRO36567', 'DAI22896', 'SNA72163', 'FRO31317', 'GRO73461', 'DAI62779', 'ELE17451', 'DAI62779', 'FRO32293', 'ELE17451', 'SNA45677', 'FRO40251', 'FRO78087', 'DAI62779', 'ELE20398', 'FRO40251', 'FRO92469', 'DAI62779', 'GRO38814', 'FRO32293', 'FRO40251', 'DAI86167', 'FRO43226', 'GRO15017', 'GRO61133', 'DAI83948', 'ELE17451', 'ELE26917', 'GRO81087', 'GRO30386', 'SNA93860', 'FRO32293', 'SNA55762', 'ELE26917', 'ELE91337', 'DAI22177', 'FRO85978', 'SNA20554', 'SNA45677', 'FRO85978', 'GRO36567', 'DAI75645', 'FRO47962', 'GRO15017', 'GRO81087', 'DAI75645', 'ELE74482', 'ELE66810', 'FRO85978', 'ELE20847', 'SNA96271', 'ELE34057', 'ELE91337', 'DAI62779', 'SNA29014', 'FRO80039', 'GRO44993', 'GRO21487', 'SNA93860', 'ELE91337', 'SNA55762', 'GRO64900', 'GRO71621', 'GRO59710', 'SNA71332', 'ELE14480', 'GRO59710', 'ELE74009', 'FRO31317', 'DAI75645', 'ELE20847', 'GRO44993', 'SNA45677', 'DAI22177', 'GRO56726', 'DAI62779', 'SNA40784', 'ELE99737', 'SNA55762', 'DAI62779', 'ELE30911', 'FRO78087', 'GRO59710', 'GRO30386', 'GRO81087', 'GRO61133', 'SNA55762', 'DAI43223', 'SNA55762', 'FRO78087', 'FRO80039', 'FRO80039', 'GRO21487', 'ELE92920', 'GRO59710', 'ELE99737', 'SNA90094', 'FRO16142', 'FRO31317', 'ELE56788', 'SNA80324', 'ELE32164', 'ELE56788', 'FRO19221', 'GRO73461', 'DAI85309', 'ELE56788', 'ELE69552', 'GRO24246', 'SNA24799', 'SNA55617', 'FRO79022', 'FRO99783', 'DAI43223', 'ELE92920', 'ELE17451', 'ELE59935', 'ELE26917', 'GRO73461', 'ELE17451', 'SNA59903', 'DAI50921', 'DAI62779', 'FRO31317', 'FRO40251', 'DAI62779', 'ELE66810', 'ELE17451', 'ELE32164', 'ELE53126', 'GRO73461', 'DAI75645', 'FRO40251', 'FRO40251', 'SNA80324', 'ELE99737', 'GRO73461', 'DAI62779', 'SNA24799', 'ELE74009', 'SNA95666', 'ELE74009', 'FRO78087', 'ELE26917', 'GRO56726', 'ELE35632', 'ELE38289', 'DAI62779', 'ELE87456', 'ELE99737', 'FRO85978', 'DAI63921', 'FRO35904', 'DAI62779', 'ELE85027', 'GRO36567', 'GRO38814', 'DAI75645', 'GRO38814', 'DAI22534', 'DAI62779', 'ELE66810', 'FRO80039', 'ELE56788', 'FRO32293', 'DAI62779', 'ELE11111', 'DAI49199', 'DAI62779', 'FRO40251', 'GRO32086', 'GRO21487', 'SNA80324', 'ELE59935', 'GRO46854', 'SNA90094', 'SNA96271', 'DAI62779', 'ELE59028', 'ELE59028', 'SNA93860', 'DAI62779', 'FRO16142', 'ELE37798', 'GRO73461', 'FRO40251', 'SNA38068', 'FRO78087', 'GRO56726', 'DAI88807', 'GRO61133', 'GRO71621', 'SNA55762', 'GRO71621', 'SNA20554', 'SNA45677', 'SNA72163', 'DAI22896', 'GRO61133', 'DAI62779', 'SNA66979', 'DAI42493', 'GRO85051', 'ELE26917', 'SNA24799', 'ELE11111', 'GRO59710', 'ELE55848', 'GRO32086', 'GRO21487', 'GRO71621', 'ELE11160', 'GRO30386', 'ELE32164', 'SNA93860', 'ELE32164', 'SNA55762', 'DAI42493', 'ELE32164', 'DAI85309', 'FRO40251', 'DAI83948', 'ELE32164', 'GRO59710', 'GRO71621', 'ELE74009', 'GRO30386', 'DAI85309', 'FRO79022', 'DAI85309', 'ELE66600', 'DAI85309', 'GRO15017', 'DAI62779', 'GRO39661', 'GRO46854', 'GRO71621', 'ELE17451', 'ELE59028', 'DAI85309', 'SNA90094', 'ELE60381', 'GRO74951', 'ELE27021', 'GRO46854', 'ELE26917', 'GRO99222', 'DAI22177', 'GRO73461', 'GRO73461', 'SNA59903', 'DAI35347', 'DAI62779', 'SNA55762', 'SNA99873', 'DAI63921', 'FRO31317', 'FRO32293', 'SNA45677', 'DAI59508', 'DAI62779', 'DAI62779', 'GRO61133', 'DAI75645', 'SNA80324', 'GRO73461', 'SNA96271', 'FRO40251', 'FRO53271', 'DAI62779', 'ELE91337', 'ELE32164', 'FRO31317', 'ELE34057', 'GRO21487', 'ELE38289', 'SNA66979', 'ELE66600', 'SNA95666', 'DAI62779', 'FRO35904', 'ELE74009', 'GRO85051', 'DAI75645', 'SNA55952', 'DAI83733', 'FRO40251', 'FRO40251', 'SNA55762', 'DAI63921', 'GRO56726', 'DAI63921', 'FRO73056', 'DAI22177', 'DAI63921', 'ELE66600', 'SNA99873', 'GRO44993', 'GRO67739', 'FRO40251', 'GRO21487', 'SNA55952', 'SNA80324', 'DAI62779', 'GRO23573', 'GRO59710', 'SNA40784', 'DAI75645', 'GRO88511', 'DAI31081', 'DAI43223', 'FRO40251', 'SNA99873', 'DAI43223', 'GRO38814', 'DAI31081', 'GRO59710', 'ELE34057', 'FRO40251', 'DAI62779', 'GRO59710', 'DAI62779', 'GRO24246', 'DAI62779', 'SNA96466', 'GRO30386', 'SNA45677', 'DAI31081', 'ELE17451', 'FRO80039', 'GRO81087', 'ELE66600', 'SNA55762', 'DAI62779', 'FRO99756', 'ELE66600', 'FRO53271', 'GRO30386', 'SNA90094', 'FRO53271', 'FRO80039', 'DAI83733', 'SNA90094', 'ELE92920', 'GRO38814', 'DAI43223', 'GRO94758', 'ELE32164', 'GRO71621', 'FRO19221', 'GRO71621', 'ELE66600', 'GRO46854', 'DAI42083', 'ELE17451', 'DAI42083', 'FRO80039', 'ELE59935', 'FRO78087', 'ELE17451', 'FRO98184', 'GRO44993', 'SNA85241', 'DAI88079', 'ELE17451', 'DAI75645', 'FRO92469', 'ELE17451', 'SNA80324', 'ELE17451', 'ELE49801', 'GRO15017', 'SNA80324', 'GRO30386', 'SNA59903', 'ELE17451', 'SNA18336', 'SNA45677', 'SNA55952', 'ELE66810', 'FRO41939', 'GRO61133', 'GRO71621', 'ELE66810', 'SNA99873', 'DAI75645', 'GRO61133', 'ELE78169', 'GRO94758', 'ELE78169', 'SNA45677', 'GRO52067', 'GRO94758', 'DAI22177', 'GRO21487', 'FRO80039', 'SNA96271', 'DAI62779', 'ELE49861', 'DAI62779', 'FRO98184', 'DAI31081', 'DAI75645', 'FRO80039', 'GRO50832', 'DAI22896', 'DAI62779', 'DAI75645', 'ELE34057', 'ELE32164', 'ELE34057', 'DAI31081', 'FRO31317', 'GRO24246', 'GRO56726', 'DAI42493', 'GRO73461', 'DAI22177', 'ELE99737', 'DAI22240', 'FRO40251', 'ELE88583', 'SNA24799', 'FRO80039', 'SNA80324', 'GRO21487', 'GRO85051', 'DAI62779', 'GRO32086', 'FRO85978', 'SNA59061', 'DAI62779', 'GRO76157', 'ELE26917', 'GRO71621', 'ELE32164', 'ELE92920', 'DAI83733', 'ELE12792', 'GRO71621', 'SNA40784', 'GRO38983', 'GRO88511', 'FRO66272', 'SNA45677', 'DAI43223', 'DAI85309', 'DAI43223', 'FRO99372', 'GRO71621', 'GRO81087', 'ELE74009', 'GRO46854', 'DAI75645', 'SNA62128', 'DAI87448', 'GRO35122', 'DAI87448', 'ELE91337', 'DAI87448', 'GRO46854', 'ELE66810', 'GRO73461', 'ELE26917', 'SNA47306', 'SNA59903', 'SNA72163', 'FRO78087', 'GRO15017', 'ELE17451', 'SNA55762', 'DAI62779', 'ELE68605', 'DAI35347', 'SNA45677', 'DAI62779', 'ELE21353', 'DAI59508', 'FRO40251', 'ELE17451', 'GRO69543', 'DAI62779', 'ELE53126', 'ELE59935', 'GRO73461', 'DAI88807', 'GRO73461', 'DAI43223', 'GRO21487', 'ELE17451', 'GRO21487', 'DAI88352', 'FRO40251', 'ELE52966', 'SNA80324', 'GRO36567', 'SNA96271', 'GRO30386', 'GRO44993', 'ELE66810', 'ELE74009', 'ELE66600', 'SNA45677', 'DAI33336', 'DAI62779', 'DAI55911', 'GRO85051', 'DAI43223', 'GRO59710', 'ELE17451', 'FRO80039', 'ELE25077', 'GRO89004', 'GRO94758', 'SNA55762', 'FRO85978', 'GRO56726', 'DAI75645', 'FRO92261', 'ELE62598', 'FRO40251', 'FRO40251', 'GRO81087', 'ELE74482', 'GRO73461', 'DAI22896', 'ELE74482', 'ELE17451', 'GRO46854', 'ELE53126', 'FRO40251', 'FRO53271', 'GRO61133', 'FRO80039', 'GRO15017', 'GRO73461', 'SNA53220', 'DAI55148', 'DAI75645', 'DAI75645', 'FRO85978', 'ELE14480', 'ELE34057', 'DAI22896', 'ELE32164', 'DAI83733', 'FRO35904', 'GRO30386', 'SNA55762', 'DAI83948', 'ELE26917', 'DAI31081', 'GRO38814', 'GRO71621', 'SNA72163', 'ELE74009', 'GRO56726', 'GRO15017', 'GRO21487', 'ELE74482', 'FRO31317', 'DAI85309', 'DAI91290', 'ELE32164', 'SNA59903', 'DAI83733', 'ELE91337', 'SNA72163', 'SNA88283', 'DAI22177', 'GRO71621', 'DAI43223', 'FRO32293', 'GRO30386', 'SNA99873', 'DAI85309', 'ELE32164', 'DAI43223', 'ELE99737', 'DAI62779', 'SNA90094', 'ELE99737', 'SNA45677', 'GRO30386', 'GRO46854', 'DAI85309', 'SNA55952', 'DAI83733', 'FRO80039', 'FRO40251', 'SNA62128', 'FRO78087', 'GRO46854', 'DAI85309', 'DAI87448', 'DAI49199', 'ELE17451', 'DAI48891', 'ELE17451', 'FRO78087', 'GRO73461', 'DAI22896', 'GRO30386', 'DAI35347', 'FRO31317', 'DAI63921', 'ELE66600', 'FRO31317', 'SNA55762', 'DAI62779', 'GRO73461', 'DAI62779', 'SNA69641', 'ELE37770', 'ELE53126', 'ELE32164', 'FRO78087', 'DAI62779', 'FRO66272', 'DAI62779', 'SNA80324', 'DAI91290', 'FRO40251', 'DAI91290', 'FRO92469', 'DAI62779', 'SNA96271', 'GRO38983', 'SNA96271', 'GRO15017', 'SNA96271', 'ELE74009', 'SNA45677', 'ELE66600', 'GRO73461', 'DAI62779', 'SNA83730', 'ELE66600', 'FRO31317', 'DAI62779', 'FRO24098', 'DAI75645', 'FRO80039', 'FRO85978', 'GRO15017', 'SNA53220', 'SNA93860', 'DAI75645', 'ELE26917', 'DAI62779', 'GRO68067', 'ELE32164', 'SNA47306', 'ELE86561', 'ELE91337', 'GRO38814', 'GRO64900', 'ELE11111', 'GRO94758', 'ELE91337', 'GRO64900', 'FRO40251', 'GRO50832', 'DAI93865', 'FRO40251', 'ELE66810', 'GRO21487', 'FRO40251', 'SNA55952', 'ELE11111', 'FRO40251', 'DAI48126', 'SNA80324', 'FRO85978', 'GRO46854', 'ELE74482', 'FRO40251', 'FRO40251', 'SNA50789', 'ELE20847', 'SNA45677', 'DAI62779', 'GRO50832', 'FRO31317', 'GRO30386', 'DAI62779', 'GRO88511', 'DAI31081', 'ELE74009', 'DAI62779', 'SNA49107', 'DAI83733', 'ELE59935', 'DAI83733', 'ELE56788', 'DAI62779', 'DAI88807', 'DAI22240', 'ELE17451', 'FRO40251', 'FRO89565', 'GRO71621', 'GRO94758', 'GRO85051', 'SNA55762', 'FRO80039', 'GRO36567', 'DAI62779', 'SNA44190', 'ELE49801', 'SNA93860', 'ELE32164', 'GRO69543', 'DAI85309', 'SNA99873', 'ELE74482', 'FRO80039', 'DAI43223', 'FRO16142', 'DAI22896', 'GRO21487', 'DAI62779', 'GRO89148', 'DAI85309', 'GRO38983', 'ELE74009', 'SNA90094', 'ELE32164', 'GRO46854', 'DAI62779', 'DAI67621', 'DAI85309', 'DAI94679', 'DAI88088', 'ELE34057', 'ELE66600', 'FRO35729', 'DAI38969', 'ELE74009', 'DAI95741', 'GRO56726', 'ELE74482', 'ELE92920', 'DAI42083', 'DAI92600', 'ELE17451', 'GRO99222', 'ELE17451', 'SNA30755', 'DAI22896', 'GRO73461', 'DAI38969', 'SNA99873', 'DAI22896', 'FRO16142', 'ELE26917', 'GRO15017', 'DAI63921', 'DAI91290', 'DAI62779', 'ELE26917', 'DAI62779', 'SNA45677', 'DAI62779', 'GRO56989', 'DAI59508', 'ELE26917', 'DAI62779', 'ELE62598', 'FRO40251', 'GRO61133', 'ELE66810', 'SNA80324', 'DAI62779', 'FRO98729', 'ELE32164', 'FRO89565', 'ELE17451', 'ELE99737', 'DAI83948', 'FRO40251', 'SNA74022', 'SNA96271', 'DAI22896', 'DAI88807', 'ELE66810', 'GRO71621', 'DAI63921', 'ELE74482', 'ELE12792', 'SNA80324', 'DAI63921', 'ELE86561', 'GRO21487', 'GRO94758', 'ELE11111', 'SNA80324', 'FRO35904', 'SNA99873', 'DAI75645', 'GRO32086', 'ELE66600', 'FRO80039', 'ELE14480', 'SNA62128', 'DAI83733', 'GRO38814', 'SNA45677', 'SNA93860', 'DAI35347', 'DAI83733', 'DAI83733', 'ELE34057', 'DAI31081', 'FRO40251', 'ELE26917', 'ELE99737', 'FRO53271', 'SNA99873', 'ELE66600', 'GRO59710', 'DAI83733', 'ELE66600', 'DAI43223', 'SNA45677', 'DAI31081', 'GRO56989', 'DAI31081', 'ELE14480', 'DAI22896', 'ELE74009', 'ELE49801', 'GRO73461', 'ELE17451', 'SNA90094', 'GRO73461', 'SNA18336', 'ELE66810', 'SNA24799', 'DAI62779', 'ELE36909', 'GRO15017', 'GRO46854', 'FRO40251', 'SNA42528', 'FRO32293', 'GRO59710', 'GRO59710', 'SNA93860', 'DAI42493', 'GRO21487', 'DAI85309', 'GRO73461', 'DAI95741', 'GRO94758', 'DAI75645', 'DAI85309', 'DAI42493', 'GRO38814', 'DAI22177', 'ELE74482', 'FRO92261', 'GRO71621', 'DAI85309', 'GRO71621', 'FRO78087', 'SNA90094', 'ELE34057', 'GRO46854', 'DAI85309', 'GRO85051', 'DAI23334', 'DAI62779', 'DAI22240', 'ELE74482', 'DAI62779', 'SNA61380', 'FRO32293', 'GRO46854', 'ELE92920', 'SNA90094', 'DAI87448', 'FRO85978', 'ELE92920', 'GRO81087', 'ELE17451', 'GRO73461', 'DAI22896', 'SNA99873', 'DAI55911', 'ELE26917', 'DAI55911', 'DAI62779', 'DAI62779', 'ELE12792', 'FRO31317', 'GRO61133', 'ELE66810', 'FRO32293', 'FRO92469', 'GRO73461', 'FRO40251', 'SNA12663', 'ELE26917', 'GRO85051', 'GRO38983', 'SNA80324', 'DAI75645', 'FRO32293', 'GRO85051', 'SNA45677', 'SNA45677', 'SNA80324', 'ELE62598', 'FRO31317', 'DAI62779', 'FRO85978', 'DAI75645', 'FRO35904', 'ELE62598', 'SNA80324', 'ELE74009', 'GRO15017', 'DAI62779', 'GRO56726', 'GRO21487', 'GRO56726', 'ELE34057', 'FRO85978', 'DAI75645', 'SNA55762', 'DAI63921', 'ELE91337', 'FRO35904', 'FRO85978', 'DAI63921', 'SNA95666', 'ELE56788', 'GRO59710', 'FRO31317', 'FRO80039', 'DAI63921', 'SNA45677', 'SNA80324', 'SNA99873', 'ELE24630', 'ELE26917', 'DAI42493', 'ELE74009', 'DAI42493', 'DAI75645', 'GRO38814', 'GRO50832', 'ELE74482', 'SNA99873', 'DAI75645', 'GRO21487', 'DAI49199', 'FRO40251', 'ELE14480', 'SNA80324', 'DAI62779', 'GRO46627', 'DAI63921', 'FRO80039', 'DAI62779', 'GRO81647', 'ELE34057', 'GRO71621', 'ELE66810', 'GRO59710', 'GRO15017', 'SNA18336', 'ELE92920', 'GRO73461', 'GRO56726', 'SNA93860', 'DAI43868', 'SNA82528', 'GRO64900', 'SNA45677', 'ELE69750', 'GRO38983', 'FRO40251', 'GRO88511', 'ELE17451', 'GRO71621', 'ELE74009', 'GRO21487', 'ELE74482', 'FRO53271', 'ELE17451', 'ELE74482', 'ELE74009', 'ELE99737', 'DAI85309', 'ELE34057', 'DAI85309', 'ELE26917', 'DAI85309', 'GRO81087', 'ELE38289', 'ELE99737', 'DAI63921', 'SNA59061', 'DAI85309', 'SNA55762', 'ELE74482', 'SNA45677', 'DAI62779', 'FRO19221', 'DAI62779', 'GRO83463', 'DAI62779', 'SNA31619', 'DAI23334', 'SNA18336', 'DAI83733', 'DAI87448', 'DAI62779', 'ELE27021', 'DAI92600', 'FRO40251', 'DAI42083', 'SNA59903', 'DAI49199', 'GRO73461', 'GRO73461', 'SNA55952', 'DAI22896', 'FRO31317', 'ELE14480', 'ELE17451', 'DAI62779', 'ELE14480', 'ELE17451', 'ELE68605', 'FRO40251', 'GRO56989', 'ELE17451', 'ELE20398', 'DAI48891', 'DAI63921', 'ELE66810', 'FRO31317', 'DAI88807', 'FRO16142', 'DAI62779', 'SNA95666', 'GRO68067', 'GRO73461', 'ELE87456', 'GRO73461', 'ELE99737', 'SNA99873', 'DAI55911', 'DAI75645', 'ELE26917', 'FRO80039', 'DAI16732', 'FRO78087', 'DAI62779', 'ELE37048', 'DAI62779', 'SNA20554', 'GRO38814', 'GRO94758', 'ELE74009', 'FRO85978', 'DAI83733', 'FRO32293', 'GRO21487', 'SNA55762', 'FRO31317', 'SNA80324', 'GRO46854', 'SNA45677', 'FRO35904', 'GRO46854', 'ELE20847', 'SNA80324', 'FRO78087', 'GRO94758', 'DAI75645', 'ELE59935', 'FRO31317', 'GRO32086', 'ELE26917', 'GRO30386', 'ELE34057', 'GRO59710', 'ELE74009', 'SNA72163', 'DAI88807', 'ELE74009', 'DAI75645', 'FRO75586', 'GRO81087', 'SNA90094', 'ELE17451', 'SNA62128', 'GRO30386', 'GRO59710', 'FRO80039', 'SNA93860', 'FRO78087', 'GRO38814', 'ELE59028', 'GRO73461', 'DAI85309', 'ELE12792', 'DAI63921', 'DAI85309', 'DAI91290', 'ELE74482', 'DAI85309', 'FRO16142', 'ELE34057', 'SNA90094', 'ELE17451', 'ELE92920', 'DAI63921', 'GRO71621', 'GRO38814', 'GRO46854', 'GRO46854', 'SNA93860', 'DAI22177', 'ELE56788', 'DAI92600', 'GRO81647', 'ELE17451', 'SNA69641', 'DAI22177', 'ELE17451', 'GRO73461', 'SNA47306', 'DAI63921', 'ELE17451', 'DAI63921', 'SNA99873', 'ELE59935', 'SNA45677', 'DAI48891', 'SNA45677', 'ELE32164', 'GRO61133', 'DAI70456', 'ELE37770', 'ELE32164', 'GRO21487', 'DAI43223', 'ELE32164', 'FRO40251', 'GRO73461', 'GRO69543', 'GRO73461', 'ELE17451', 'FRO66272', 'DAI91290', 'ELE26917', 'GRO38814', 'GRO73461', 'DAI75645', 'SNA93860', 'DAI62779', 'GRO36567', 'ELE17451', 'SNA96271', 'FRO31317', 'GRO15017', 'FRO85978', 'SNA90094', 'DAI35347', 'ELE66810', 'FRO85978', 'GRO94758', 'DAI62779', 'GRO64900', 'FRO40251', 'FRO92261', 'FRO85978', 'GRO61133', 'DAI75645', 'SNA99873', 'GRO46854', 'GRO73461', 'ELE32164', 'SNA40784', 'DAI43223', 'GRO73461', 'ELE66600', 'ELE74009', 'DAI22896', 'FRO53271', 'DAI88807', 'SNA45677', 'DAI88807', 'GRO30386', 'FRO40251', 'SNA72163', 'DAI75645', 'SNA90094', 'FRO35904', 'SNA80324', 'ELE86561', 'SNA45677', 'ELE74009', 'GRO59710', 'DAI55148', 'FRO92469', 'ELE20398', 'ELE32164', 'DAI48891', 'DAI83733', 'FRO99372', 'GRO94758', 'DAI88807', 'SNA93860', 'DAI85309', 'ELE99737', 'ELE26917', 'ELE74482', 'FRO31317', 'GRO46854', 'ELE66600', 'SNA80324', 'ELE74009', 'GRO94758', 'ELE26917', 'ELE32164', 'DAI22240', 'ELE37048', 'DAI42493', 'DAI85309', 'DAI85309', 'ELE92920', 'ELE56788', 'ELE92920', 'ELE21353', 'FRO19221', 'DAI83733', 'ELE20847', 'DAI62779', 'SNA82528', 'DAI22240', 'ELE53126', 'DAI85309', 'FRO35904', 'DAI87448', 'SNA93860', 'DAI87448', 'GRO21487', 'GRO81087', 'SNA18336', 'DAI92600', 'GRO59710', 'DAI22177', 'ELE59935', 'DAI22177', 'ELE66810', 'ELE17451', 'FRO98729', 'FRO24098', 'GRO73461', 'DAI55911', 'GRO73461', 'ELE26917', 'SNA99873', 'ELE26917', 'SNA55762', 'DAI62779', 'SNA43319', 'FRO78994', 'GRO56989', 'ELE17451', 'SNA59061', 'ELE26917', 'FRO40251', 'ELE99737', 'FRO40251', 'DAI62779', 'ELE12845', 'SNA80324', 'SNA96271', 'GRO94758', 'SNA45677', 'ELE12792', 'GRO73461', 'ELE34057', 'ELE66600', 'ELE17451', 'ELE91337', 'FRO80039', 'SNA99873', 'ELE56788', 'GRO73461', 'GRO81087', 'SNA99873', 'FRO16142', 'SNA80324', 'GRO21487', 'GRO38814', 'SNA45677', 'SNA99873', 'DAI62779', 'SNA62128', 'DAI48891', 'GRO73461', 'DAI62779', 'FRO80039', 'GRO88324', 'SNA80324', 'FRO31317', 'FRO85978', 'GRO59710', 'GRO81087', 'DAI75645', 'ELE56788', 'DAI75645', 'ELE66810', 'GRO21487', 'SNA45677', 'ELE99737', 'GRO94758', 'DAI31081', 'GRO69543', 'GRO46854', 'GRO94758', 'GRO30386', 'GRO35122', 'GRO38983', 'SNA45677', 'FRO79022', 'SNA45677', 'DAI85309', 'GRO88324', 'FRO80039', 'GRO46854', 'DAI22240', 'SNA80324', 'DAI62779', 'ELE69552', 'DAI62779', 'ELE60381', 'DAI83031', 'DAI94679', 'DAI31081', 'SNA62128', 'ELE17451', 'FRO99783', 'DAI87448', 'GRO73461', 'DAI87448', 'SNA80324', 'DAI83733', 'FRO99783', 'GRO30386', 'GRO73461', 'ELE26917', 'ELE59935', 'GRO59710', 'GRO73461', 'GRO15017', 'GRO73461', 'ELE68605', 'FRO31317', 'DAI62779', 'DAI73122', 'GRO61133', 'GRO73461', 'DAI91290', 'SNA45677', 'DAI62779', 'ELE37770', 'DAI63921', 'GRO61133', 'ELE32164', 'ELE53126', 'DAI62779', 'DAI91290', 'GRO38814', 'SNA80324', 'GRO99222', 'SNA80324', 'FRO78087', 'SNA80324', 'GRO56726', 'SNA99873', 'ELE17451', 'FRO85978', 'FRO24098', 'FRO40251', 'DAI75645', 'DAI83948', 'ELE17451', 'GRO88324', 'ELE59935', 'FRO80039', 'DAI22896', 'GRO38814', 'GRO38814', 'SNA72163', 'DAI62779', 'ELE25077', 'DAI91290', 'GRO81087', 'FRO85978', 'GRO21487', 'FRO85978', 'SNA93860', 'FRO40251', 'FRO98184', 'DAI62779', 'ELE20196', 'ELE53126', 'SNA80324', 'DAI31081', 'ELE32164', 'ELE34057', 'ELE56788', 'DAI22896', 'SNA45677', 'DAI49199', 'SNA45677', 'ELE49801', 'GRO30386', 'ELE74009', 'SNA99873', 'DAI88807', 'ELE17451', 'ELE74009', 'FRO35904', 'GRO56726', 'GRO61133', 'DAI31081', 'GRO85051', 'GRO73461', 'SNA62128', 'ELE66600', 'GRO56726', 'FRO40251', 'GRO68067', 'FRO85978', 'SNA55762', 'ELE91337', 'FRO31317', 'ELE32164', 'FRO53271', 'DAI62779', 'GRO88505', 'GRO73461', 'SNA42528', 'DAI62779', 'ELE74482', 'ELE32164', 'SNA71332', 'DAI88807', 'GRO69543', 'ELE92920', 'GRO71621', 'ELE17451', 'ELE56788', 'ELE32164', 'SNA42528', 'DAI42493', 'GRO71621', 'DAI62779', 'GRO61273', 'DAI55148', 'ELE26917', 'DAI62779', 'SNA74022', 'ELE35159', 'ELE49861', 'DAI46755', 'FRO81176', 'DAI62779', 'GRO99222', 'DAI62779', 'FRO78994', 'DAI62779', 'SNA40408', 'FRO40251', 'FRO43226', 'ELE32164', 'ELE37770', 'ELE17451', 'ELE62598', 'DAI88352', 'SNA59061', 'DAI88352', 'ELE17451', 'FRO66272', 'GRO73461', 'FRO40251', 'GRO69543', 'ELE17451', 'GRO38814', 'ELE66810', 'SNA72163', 'ELE66810', 'SNA66979', 'ELE26917', 'FRO32293', 'DAI63921', 'SNA55952', 'ELE74009', 'GRO73461', 'FRO32293', 'FRO53271', 'DAI75645', 'FRO16142', 'ELE88583', 'GRO30912', 'GRO59710', 'SNA99873', 'ELE14480', 'FRO80039', 'ELE12951', 'FRO40251', 'DAI75645', 'SNA96271', 'ELE20847', 'GRO73461', 'FRO80039', 'SNA90094', 'FRO85978', 'SNA80324', 'GRO15017', 'SNA93860', 'ELE99737', 'GRO38814', 'DAI75645', 'GRO56726', 'DAI62779', 'FRO53271', 'FRO98729', 'SNA55762', 'ELE37048', 'FRO40251', 'DAI73122', 'GRO73461', 'ELE99737', 'FRO78087', 'GRO64900', 'GRO73461', 'DAI95741', 'SNA90094', 'ELE14480', 'FRO40251', 'GRO64900', 'SNA80324', 'FRO31317', 'GRO64900', 'ELE17451', 'FRO53271', 'FRO85978', 'GRO71621', 'SNA31619', 'SNA96271', 'DAI85309', 'FRO85978', 'GRO59710', 'SNA55762', 'FRO53271', 'GRO59710', 'SNA55762', 'SNA90094', 'ELE32164', 'ELE74482', 'DAI22177', 'DAI85309', 'DAI42493', 'ELE92920', 'DAI85309', 'ELE49801', 'DAI85309', 'ELE78169', 'FRO19221', 'SNA53220', 'DAI62779', 'ELE38536', 'DAI62779', 'DAI94679', 'GRO21487', 'GRO46854', 'FRO35904', 'FRO99783', 'DAI63921', 'DAI87448', 'GRO46854', 'GRO81045', 'DAI92600', 'GRO73461', 'GRO99222', 'SNA90258', 'FRO78087', 'GRO39357', 'DAI62779', 'FRO31317', 'FRO31317', 'GRO44993', 'ELE59935', 'GRO30386', 'FRO73056', 'GRO44993', 'GRO38814', 'GRO85051', 'DAI62779', 'SNA72163', 'FRO32293', 'GRO73461', 'DAI62779', 'SNA59903', 'SNA72163', 'SNA93860', 'DAI62779', 'ELE52966', 'ELE17451', 'ELE74009', 'FRO78087', 'FRO85978', 'FRO35904', 'SNA96271', 'DAI62779', 'SNA68538', 'DAI75645', 'GRO94758', 'FRO40251', 'FRO85978', 'DAI22177', 'FRO40251', 'ELE20847', 'FRO40251', 'DAI75645', 'GRO15017', 'FRO80039', 'GRO73461', 'ELE74009', 'FRO53271', 'DAI83733', 'ELE32164', 'DAI88807', 'ELE34057', 'ELE34057', 'SNA80324', 'GRO35122', 'GRO56726', 'GRO21487', 'SNA72163', 'DAI83733', 'FRO85978', 'GRO71621', 'SNA99873', 'DAI75645', 'GRO56989', 'FRO31317', 'GRO38814', 'DAI62779', 'SNA18336', 'DAI63921', 'GRO21487', 'DAI85309', 'ELE17451', 'ELE32164', 'SNA90094', 'DAI85309', 'ELE91337', 'DAI85309', 'SNA40784', 'ELE56788', 'GRO30386', 'DAI85309', 'GRO38814', 'ELE32164', 'ELE68605', 'DAI85309', 'SNA93860', 'DAI85309', 'GRO59710', 'DAI75645', 'GRO46854', 'DAI22896', 'GRO46854', 'ELE37048', 'ELE74482', 'DAI22177', 'GRO46854', 'DAI74977', 'GRO83463', 'DAI62779', 'DAI92600', 'ELE17451', 'ELE26917', 'DAI95741', 'ELE17451', 'FRO16142', 'GRO73461', 'GRO73461', 'SNA72163', 'ELE17451', 'GRO59710', 'ELE17451', 'ELE53126', 'DAI43223', 'ELE17451', 'GRO36567', 'SNA80324', 'DAI75645', 'DAI91290', 'DAI62779', 'GRO81087', 'ELE12792', 'GRO56726', 'FRO32293', 'SNA99873', 'ELE26917', 'ELE34057', 'ELE34057', 'SNA99873', 'FRO40251', 'FRO98729', 'GRO38814', 'GRO59710', 'ELE37048', 'SNA99873', 'ELE14480', 'GRO24246', 'FRO16142', 'SNA72163', 'FRO85978', 'GRO64900', 'DAI75645', 'ELE12792', 'DAI42493', 'FRO40251', 'FRO73056', 'FRO85978', 'GRO15017', 'GRO38814', 'GRO61133', 'GRO81087', 'GRO50832', 'SNA80324', 'DAI22896', 'DAI75645', 'DAI83733', 'ELE17451', 'GRO56726', 'GRO71621', 'DAI75645', 'GRO71621', 'DAI55148', 'GRO73461', 'DAI22177', 'ELE32164', 'ELE74009', 'GRO64900', 'ELE56788', 'ELE66810', 'ELE91337', 'SNA90094', 'FRO78087', 'GRO30386', 'DAI75645', 'FRO89565', 'DAI63921', 'SNA96271', 'GRO30386', 'GRO94758', 'DAI62779', 'GRO35122', 'DAI62779', 'DAI95741', 'GRO21487', 'GRO59710', 'ELE32164', 'ELE87456', 'ELE99737', 'GRO21487', 'DAI55911', 'ELE32164', 'SNA90094', 'SNA99873', 'ELE92920', 'GRO94758', 'ELE26917', 'FRO53271', 'GRO71621', 'SNA96271', 'FRO31317', 'GRO56726', 'DAI69156', 'ELE17451', 'DAI22177', 'DAI87448', 'FRO79022', 'GRO46854', 'ELE30911', 'GRO46854', 'DAI42083', 'GRO59710', 'DAI42083', 'DAI62779', 'DAI22177', 'ELE26917', 'ELE17451', 'SNA55952', 'ELE11111', 'ELE17451', 'ELE17451', 'FRO16142', 'DAI35347', 'GRO73461', 'DAI62779', 'DAI63921', 'FRO31317', 'SNA99873', 'ELE12792', 'ELE17451', 'DAI35798', 'GRO35122', 'ELE17451', 'ELE37770', 'FRO40251', 'GRO36567', 'DAI22177', 'SNA45677', 'ELE66810', 'FRO78087', 'FRO32293', 'GRO56726', 'ELE17451', 'FRO75586', 'DAI62779', 'FRO75586', 'DAI55911', 'FRO40251', 'ELE26917', 'ELE56788', 'ELE74482', 'GRO21487', 'GRO73461', 'SNA71332', 'FRO80039', 'SNA55952', 'ELE56788', 'FRO40251', 'GRO73461', 'SNA20554', 'GRO94758', 'SNA80324', 'DAI62779', 'SNA88283', 'ELE74009', 'GRO61133', 'FRO16142', 'FRO40251', 'SNA43319', 'SNA80324', 'DAI83948', 'SNA80324', 'ELE56788', 'FRO35904', 'DAI62779', 'SNA55952', 'FRO53271', 'SNA80324', 'DAI22177', 'FRO53271', 'FRO31317', 'FRO53271', 'DAI63921', 'ELE99737', 'GRO30386', 'GRO71621', 'GRO21487', 'GRO73461', 'DAI55148', 'ELE17451', 'GRO73461', 'SNA40784', 'DAI22896', 'GRO59710', 'DAI88807', 'GRO59710', 'SNA80324', 'SNA90094', 'GRO85051', 'GRO94758', 'FRO16142', 'GRO59710', 'FRO40251', 'GRO71621', 'FRO35904', 'GRO64900', 'DAI22896', 'SNA55762', 'DAI62779', 'FRO26482', 'ELE66600', 'GRO71621', 'DAI22177', 'SNA55762', 'DAI62779', 'GRO29598', 'ELE26917', 'SNA50789', 'FRO80039', 'SNA72163', 'ELE37770', 'FRO40251', 'DAI85309', 'SNA45677', 'GRO88511', 'SNA45677', 'ELE66810', 'GRO30386', 'DAI85309', 'GRO21487', 'ELE92920', 'FRO31317', 'DAI87448', 'ELE17451', 'DAI92600', 'GRO21487', 'DAI92600', 'ELE17451', 'ELE17451', 'FRO78087', 'ELE17451', 'GRO38983', 'FRO40251', 'GRO38636', 'DAI62779', 'GRO30386', 'DAI63921', 'GRO73461', 'ELE32164', 'GRO73461', 'ELE26917', 'GRO38814', 'FRO40251', 'GRO44993', 'DAI75645', 'GRO85051', 'DAI62779', 'DAI83948', 'FRO74605', 'GRO73461', 'SNA38068', 'SNA80324', 'DAI50913', 'GRO33815', 'ELE66600', 'GRO21487', 'FRO75586', 'GRO73461', 'ELE37048', 'ELE53126', 'GRO59710', 'SNA62128', 'DAI83733', 'GRO61133', 'FRO92261', 'SNA80324', 'DAI55911', 'SNA80324', 'DAI75645', 'ELE11111', 'GRO46854', 'SNA95666', 'GRO15017', 'GRO30386', 'GRO73461', 'GRO88511', 'DAI31081', 'FRO53271', 'GRO15017', 'SNA99873', 'SNA45677', 'SNA96466', 'ELE20847', 'GRO85051', 'FRO80039', 'GRO94758', 'FRO40251', 'SNA40784', 'DAI62779', 'GRO17075', 'ELE32164', 'SNA96271', 'FRO40251', 'GRO59710', 'ELE32164', 'SNA18336', 'GRO59710', 'GRO94758', 'DAI22177', 'DAI75645', 'ELE99737', 'GRO59710', 'ELE17451', 'FRO79022', 'DAI85309', 'ELE66810', 'DAI22177', 'DAI88807', 'DAI85309', 'FRO19221', 'FRO40251', 'GRO46854', 'ELE92920', 'SNA45677', 'ELE26917', 'ELE92920', 'ELE32164', 'GRO83463', 'DAI62779', 'ELE81534', 'SNA40784', 'SNA99873', 'DAI55148', 'ELE32164', 'DAI87448', 'GRO56726', 'DAI48891', 'DAI62779', 'FRO31317', 'SNA45677', 'FRO31317', 'GRO81087', 'FRO43226', 'GRO73461', 'ELE17451', 'GRO85051', 'FRO43226', 'SNA80324', 'GRO44993', 'SNA80324', 'ELE62598', 'SNA38068', 'DAI75645', 'GRO99222', 'ELE66600', 'FRO85978', 'GRO73461', 'SNA55762', 'ELE74009', 'SNA55762', 'DAI83948', 'GRO85051', 'DAI62779', 'DAI75645', 'DAI83733', 'ELE74009', 'DAI75645', 'DAI83733', 'GRO21487', 'SNA96271', 'ELE86561', 'GRO21487', 'DAI62779', 'ELE24630', 'ELE26917', 'SNA96271', 'DAI62779', 'FRO92261', 'DAI63921', 'ELE34057', 'DAI62779', 'ELE20847', 'FRO32293', 'GRO71621', 'GRO46854', 'SNA96271', 'ELE74009', 'SNA93860', 'DAI83733', 'FRO31317', 'ELE32164', 'FRO40251', 'ELE32164', 'GRO81087', 'DAI88807', 'ELE62598', 'DAI22177', 'DAI83733', 'FRO35904', 'GRO73461', 'FRO80039', 'GRO56726', 'GRO30386', 'SNA88283', 'GRO59710', 'SNA38068', 'ELE74009', 'FRO80039', 'DAI55148', 'FRO40251', 'ELE17451', 'GRO64900', 'DAI88807', 'GRO21487', 'ELE17451', 'GRO88511', 'GRO59710', 'SNA59903', 'ELE32164', 'GRO94758', 'DAI88807', 'FRO53271', 'DAI85309', 'DAI95741', 'DAI91290', 'SNA90094', 'FRO31317', 'GRO94758', 'DAI42493', 'SNA18336', 'DAI35347', 'DAI85309', 'GRO71621', 'SNA45677', 'DAI91290', 'GRO59710', 'FRO35904', 'GRO71621', 'ELE17451', 'ELE87456', 'DAI83733', 'DAI85309', 'ELE53126', 'ELE74482', 'DAI62779', 'GRO89004', 'GRO46854', 'GRO56726', 'DAI75645', 'ELE92920', 'DAI92600', 'ELE92920', 'DAI92600', 'FRO80039', 'GRO36567', 'GRO73461', 'ELE17451', 'SNA93860', 'DAI22177', 'FRO31317', 'DAI62779', 'SNA99873', 'ELE17451', 'FRO78994', 'ELE12792', 'SNA69641', 'GRO30386', 'GRO61133', 'DAI62779', 'FRO92469', 'FRO40251', 'SNA47306', 'DAI62779', 'GRO15017', 'GRO99222', 'SNA45677', 'ELE34057', 'ELE99737', 'DAI35347', 'FRO80039', 'DAI62779', 'ELE88583', 'DAI43223', 'ELE26917', 'FRO61354', 'GRO73461', 'DAI62779', 'ELE99737', 'DAI31081', 'DAI62779', 'DAI63921', 'ELE11160', 'FRO47962', 'GRO73461', 'DAI22896', 'SNA80324', 'ELE59935', 'SNA80324', 'ELE99737', 'FRO80039', 'FRO80039', 'GRO61133', 'FRO31317', 'GRO71621', 'ELE17451', 'SNA40784', 'DAI83733', 'FRO78087', 'ELE34057', 'FRO80039', 'FRO61354', 'SNA80324', 'FRO80039', 'SNA55762', 'FRO92261', 'GRO73461', 'GRO61133', 'SNA99873', 'DAI83733', 'ELE26917', 'ELE34057', 'SNA45677', 'GRO94173', 'SNA45677', 'ELE91337', 'FRO80039', 'GRO71621', 'SNA80324', 'FRO35904', 'SNA55762', 'DAI31081', 'FRO78087', 'GRO32086', 'GRO73461', 'DAI55911', 'GRO71621', 'GRO46854', 'SNA55762', 'DAI83733', 'FRO79022', 'GRO59710', 'SNA90094', 'DAI85309', 'FRO31317', 'ELE32164', 'SNA38068', 'DAI37288', 'ELE32164', 'ELE74009', 'GRO71621', 'GRO46854', 'GRO61133', 'ELE30182', 'SNA24799', 'DAI92600', 'ELE32164', 'DAI22896', 'ELE26917', 'FRO31317', 'GRO38983', 'ELE20398', 'GRO73461', 'GRO56989', 'GRO73461', 'ELE37048', 'GRO73461', 'FRO40251', 'SNA88283', 'ELE68605', 'GRO73461', 'SNA80324', 'SNA93860', 'GRO38983', 'GRO73461', 'DAI62779', 'SNA38068', 'GRO69543', 'SNA80324', 'ELE66810', 'FRO40251', 'FRO73056', 'GRO30386', 'ELE26917', 'FRO85978', 'GRO36567', 'SNA45677', 'FRO85978', 'GRO44993', 'ELE32164', 'GRO59710', 'DAI62779', 'ELE56788', 'DAI22177', 'DAI62779', 'ELE91337', 'FRO85978', 'ELE91337', 'GRO56726', 'DAI75645', 'SNA45677', 'DAI42493', 'SNA80324', 'DAI62779', 'SNA50789', 'SNA40408', 'SNA80324', 'DAI83733', 'GRO56726', 'ELE32164', 'ELE66600', 'DAI62779', 'SNA55617', 'ELE14480', 'ELE32164', 'DAI22896', 'FRO40251', 'DAI75645', 'ELE66600', 'DAI42493', 'DAI88807', 'ELE17451', 'FRO89565', 'ELE56788', 'SNA45677', 'FRO80039', 'GRO88324', 'ELE81534', 'SNA24799', 'ELE20847', 'FRO92469', 'DAI62779', 'FRO89565', 'ELE17451', 'SNA88283', 'DAI31081', 'ELE74482', 'DAI67621', 'FRO80039', 'FRO40251', 'GRO81647', 'DAI85309', 'FRO78087', 'DAI85309', 'ELE14480', 'ELE74482', 'GRO30386', 'GRO38814', 'GRO71621', 'ELE32164', 'FRO80039', 'ELE32164', 'FRO32293', 'DAI85309', 'FRO32293', 'DAI22177', 'FRO80039', 'DAI85309', 'GRO30386', 'ELE17451', 'GRO82670', 'ELE99737', 'FRO19221', 'DAI22240', 'DAI62779', 'ELE69552', 'FRO19221', 'DAI62779', 'ELE20202', 'ELE74009', 'SNA62128', 'GRO56726', 'SNA90094', 'DAI87448', 'ELE30933', 'DAI87448', 'FRO40251', 'ELE17451', 'GRO56989', 'ELE17451', 'GRO94758', 'GRO15017', 'GRO59710', 'DAI62779', 'SNA55762', 'DAI62779', 'FRO40251', 'DAI35347', 'FRO40251', 'FRO40251', 'SNA93860', 'FRO73056', 'GRO73461', 'FRO40251', 'GRO38814', 'DAI38969', 'FRO40251', 'DAI95741', 'FRO40251', 'FRO40251', 'SNA45677', 'FRO31317', 'SNA96271', 'FRO40251', 'GRO99222', 'SNA45677', 'SNA95666', 'FRO78087', 'SNA95666', 'GRO56726', 'GRO73461', 'DAI62779', 'ELE34057', 'ELE26917', 'GRO21487', 'ELE17451', 'GRO57755', 'DAI63921', 'FRO85978', 'GRO21487', 'GRO44993', 'DAI62779', 'GRO30912', 'GRO59710', 'SNA45677', 'ELE91337', 'SNA20554', 'ELE86561', 'FRO85978', 'DAI83733', 'GRO44993', 'ELE74482', 'SNA80324', 'SNA50789', 'SNA96271', 'DAI62779', 'SNA57865', 'ELE74009', 'GRO36567', 'FRO78087', 'SNA93860', 'FRO80039', 'GRO38814', 'FRO80039', 'GRO30386', 'DAI75645', 'ELE32164', 'DAI75645', 'FRO31317', 'GRO32086', 'SNA80324', 'DAI63921', 'FRO66272', 'DAI62779', 'SNA47306', 'DAI43223', 'GRO61133', 'DAI63921', 'ELE74009', 'ELE99737', 'SNA93860', 'DAI43223', 'FRO53271', 'DAI83733', 'GRO30386', 'ELE17451', 'GRO35122', 'DAI31081', 'GRO21487', 'DAI85309', 'ELE74482', 'GRO94758', 'SNA90094', 'DAI95741', 'GRO46854', 'FRO64631', 'SNA99873', 'DAI85309', 'SNA18336', 'ELE20847', 'FRO75586', 'ELE26917', 'FRO78994', 'GRO46854', 'SNA20554', 'DAI83733', 'GRO46854', 'DAI23334', 'ELE92920', 'DAI62779', 'FRO99783', 'ELE17451', 'SNA90258', 'GRO73461', 'SNA99873', 'GRO36567', 'SNA47306', 'ELE17451', 'GRO36567', 'DAI55911', 'ELE17451', 'ELE17451', 'FRO31317', 'DAI63921', 'FRO78087', 'DAI91290', 'ELE17451', 'DAI62779', 'ELE59935', 'DAI62779', 'SNA93730', 'DAI62779', 'ELE86561', 'DAI62779', 'ELE32164', 'FRO43226', 'FRO66272', 'GRO69543', 'SNA12663', 'DAI62779', 'GRO85051', 'ELE26917', 'SNA80324', 'DAI75645', 'GRO44993', 'SNA47306', 'SNA80324', 'DAI75645', 'SNA47306', 'DAI75645', 'DAI95741', 'DAI83948', 'FRO31317', 'FRO40251', 'SNA96271', 'ELE17451', 'GRO56726', 'FRO31317', 'FRO78087', 'SNA55762', 'SNA80324', 'ELE66600', 'SNA96271', 'ELE53126', 'FRO24098', 'DAI63921', 'DAI83733', 'DAI62779', 'DAI67189', 'GRO73461', 'SNA95666', 'ELE74009', 'GRO81087', 'ELE28189', 'FRO17734', 'DAI53152', 'FRO40251', 'DAI62779', 'ELE78169', 'FRO32293', 'SNA80324', 'DAI62779', 'SNA90258', 'ELE26917', 'GRO64900', 'GRO44993', 'GRO73461', 'FRO40251', 'GRO56726', 'DAI75645', 'GRO35122', 'ELE53126', 'FRO31317', 'FRO40251', 'FRO61354', 'ELE74009', 'GRO38814', 'DAI75645', 'ELE62598', 'DAI88807', 'FRO32293', 'ELE87456', 'FRO40251', 'ELE20847', 'ELE26917', 'FRO80039', 'GRO64900', 'DAI75645', 'FRO78087', 'FRO40251', 'GRO64900', 'ELE32164', 'GRO35122', 'SNA96271', 'SNA99873', 'DAI85309', 'GRO61133', 'DAI85309', 'SNA47306', 'GRO71621', 'SNA90094', 'DAI38969', 'DAI85309', 'DAI88807', 'FRO80039', 'DAI18527', 'SNA44451', 'ELE17451', 'SNA99873', 'DAI22896', 'ELE66810', 'ELE17451', 'FRO32293', 'ELE17451', 'GRO30386', 'DAI35347', 'GRO59710', 'DAI62779', 'FRO43226', 'DAI62779', 'GRO69543', 'ELE32164', 'ELE59935', 'FRO78087', 'GRO21487', 'DAI62779', 'SNA59061', 'GRO73461', 'GRO85051', 'DAI75645', 'GRO36567', 'GRO73461', 'SNA38068', 'FRO40251', 'GRO15017', 'FRO78087', 'SNA45677', 'DAI62779', 'GRO94758', 'ELE66600', 'ELE91337', 'DAI62779', 'SNA30755', 'DAI83733', 'SNA55762', 'FRO40251', 'FRO80039', 'ELE26917', 'SNA45677', 'ELE53126', 'SNA99873', 'DAI88807', 'SNA72163', 'GRO71621', 'GRO73461', 'ELE11111', 'GRO73461', 'DAI22177', 'SNA80324', 'DAI88807', 'SNA80324', 'FRO53271', 'GRO21487', 'FRO53271', 'GRO38814', 'DAI62779', 'GRO18367', 'ELE91337', 'GRO46854', 'ELE59028', 'FRO85978', 'ELE59028', 'SNA80324', 'ELE32164', 'ELE74009', 'GRO21487', 'GRO69543', 'FRO32293', 'GRO30386', 'ELE14480', 'ELE99737', 'SNA59903', 'SNA80324', 'SNA45677', 'SNA55762', 'DAI83733', 'SNA99873', 'ELE32164', 'GRO32086', 'ELE91337', 'GRO21487', 'SNA44190', 'SNA80324', 'DAI62779', 'FRO79022', 'ELE53126', 'FRO53271', 'GRO21487', 'GRO61133', 'DAI73122', 'ELE32164', 'DAI42493', 'GRO69543', 'DAI43223', 'FRO80039', 'FRO80039', 'SNA62128', 'DAI42493', 'FRO53271', 'ELE74482', 'GRO71621', 'ELE92920', 'GRO15017', 'ELE32244', 'ELE66600', 'DAI88088', 'ELE38289', 'GRO46854', 'SNA90094', 'DAI62779', 'DAI83031', 'ELE92920', 'GRO46854', 'ELE17451', 'SNA29014', 'ELE26917', 'GRO46854', 'DAI23334', 'ELE17451', 'ELE26917', 'SNA72163', 'DAI22177', 'SNA99873', 'DAI63921', 'ELE37798', 'FRO31317', 'SNA93860', 'ELE26917', 'ELE66810', 'ELE32164', 'FRO43226', 'GRO73461', 'SNA59061', 'GRO61133', 'SNA72163', 'DAI83948', 'GRO73461', 'DAI22177', 'FRO35904', 'DAI62779', 'FRO73056', 'DAI75645', 'FRO53271', 'GRO30386', 'SNA96271', 'GRO61133', 'SNA80324', 'ELE34057', 'GRO56726', 'FRO85978', 'SNA99873', 'DAI83733', 'SNA80324', 'GRO21487', 'GRO36567', 'DAI62779', 'GRO71621', 'DAI31081', 'GRO73461', 'DAI63921', 'GRO94758', 'DAI22177', 'ELE91337', 'GRO81087', 'SNA80324', 'GRO94758', 'SNA96271', 'ELE26917', 'FRO92261', 'FRO92261', 'SNA45677', 'DAI62779', 'SNA53220', 'ELE17451', 'SNA38068', 'ELE37048', 'SNA80324', 'ELE53126', 'GRO32086', 'DAI22177', 'DAI31081', 'DAI22177', 'ELE66600', 'DAI35347', 'GRO71621', 'DAI22177', 'GRO59710', 'ELE32164', 'SNA45677', 'DAI22177', 'ELE34057', 'GRO56726', 'SNA45677', 'ELE91337', 'GRO73461', 'DAI73122', 'FRO40251', 'ELE99737', 'GRO56726', 'ELE49801', 'GRO46854', 'DAI22177', 'GRO30386', 'GRO30386', 'SNA12663', 'ELE34057', 'ELE74009', 'DAI91290', 'ELE92920', 'ELE99737', 'GRO71621', 'ELE56788', 'FRO80039', 'GRO38814', 'SNA55952', 'SNA45677', 'SNA96271', 'DAI31081', 'DAI88807', 'FRO92261', 'SNA99873', 'DAI20027', 'DAI70456', 'FRO79022', 'GRO56726', 'GRO32086', 'SNA99873', 'ELE17451', 'GRO32086', 'FRO40251', 'SNA18336', 'ELE34057', 'ELE66810', 'FRO79022', 'FRO85978', 'ELE32164', 'ELE99737', 'ELE56788', 'GRO21487', 'ELE66600', 'ELE66810', 'DAI62779', 'DAI85309', 'ELE74482', 'FRO78087', 'ELE56788', 'FRO78087', 'ELE59028', 'FRO80039', 'ELE30933', 'GRO73461', 'DAI63921', 'ELE59935', 'ELE91337', 'SNA45677', 'GRO94758', 'SNA99873', 'FRO40251', 'FRO99756', 'DAI43223', 'FRO78087', 'DAI62779', 'DAI88352', 'DAI91290', 'SNA80324', 'DAI75645', 'GRO73461', 'ELE17451', 'FRO92469', 'GRO73461', 'SNA12663', 'DAI38969', 'DAI62779', 'GRO85051', 'SNA80324', 'DAI48126', 'DAI62779', 'FRO40251', 'GRO30386', 'FRO40251', 'SNA95666', 'ELE26917', 'ELE66600', 'GRO21487', 'SNA99873', 'GRO24246', 'SNA30859', 'ELE17451', 'ELE34057', 'GRO15017', 'SNA55762', 'DAI22177', 'FRO66272', 'DAI35347', 'ELE66600', 'DAI83733', 'SNA45677', 'FRO85978', 'GRO73461', 'SNA30533', 'SNA96271', 'ELE20847', 'ELE85027', 'GRO46854', 'SNA99873', 'GRO46854', 'SNA66583', 'ELE34057', 'ELE65859', 'ELE32164', 'SNA55952', 'DAI75645', 'FRO61354', 'DAI31081', 'GRO81087', 'DAI31081', 'GRO30386', 'ELE66600', 'GRO15017', 'ELE34057', 'FRO35904', 'ELE74009', 'FRO16142', 'FRO40251', 'SNA90094', 'ELE26917', 'GRO94758', 'ELE92920', 'FRO40251', 'DAI62779', 'ELE92920', 'FRO80039', 'SNA45677', 'FRO35904', 'FRO80039', 'DAI42493', 'DAI62779', 'ELE26917', 'GRO38983', 'FRO43226', 'FRO48038', 'GRO38814', 'SNA93860', 'SNA45677', 'SNA90094', 'ELE74009', 'SNA38068', 'DAI85309', 'GRO56726', 'DAI85309', 'ELE59935', 'DAI85309', 'ELE74009', 'GRO15017', 'SNA90094', 'DAI43223', 'DAI62779', 'ELE26917', 'SNA90094', 'DAI22240', 'ELE32164', 'DAI29159', 'DAI62779', 'FRO99783', 'SNA45677', 'DAI22896', 'ELE17451', 'GRO73461', 'GRO94758', 'ELE17451', 'FRO24098', 'DAI95741', 'GRO73461', 'DAI63921', 'ELE26917', 'GRO73461', 'SNA45677', 'ELE32164', 'GRO30386', 'ELE62598', 'GRO73461', 'ELE74009', 'FRO40251', 'GRO73461', 'GRO81087', 'DAI26390', 'DAI62779', 'DAI62779', 'ELE74009', 'DAI83733', 'GRO73461', 'DAI55911', 'GRO59710', 'ELE74482', 'GRO59710', 'FRO85978', 'SNA45677', 'ELE56788', 'ELE99737', 'DAI88807', 'GRO38814', 'GRO64900', 'SNA99873', 'DAI49199', 'SNA99873', 'DAI22177', 'FRO32293', 'GRO35122', 'SNA80324', 'ELE34057', 'GRO73461', 'ELE56788', 'SNA99873', 'ELE32164', 'GRO15017', 'DAI62779', 'GRO82670', 'DAI88807', 'FRO40251', 'FRO80039', 'FRO85978', 'ELE74009', 'GRO44993', 'DAI75645', 'GRO69543', 'ELE92920', 'SNA80324', 'ELE37798', 'FRO85978', 'FRO31317', 'GRO69543', 'DAI75645', 'ELE14480', 'DAI63921', 'GRO46854', 'ELE32164', 'SNA99873', 'ELE99737', 'GRO88324', 'GRO59710', 'SNA72163', 'DAI85309', 'GRO94758', 'DAI51880', 'ELE26917', 'ELE66810', 'GRO46854', 'ELE26917', 'ELE92629', 'ELE99737', 'FRO31317', 'GRO30386', 'GRO32086', 'ELE17451', 'ELE78169', 'FRO80039', 'GRO71621', 'GRO46854', 'SNA18336', 'ELE56788', 'GRO46854', 'DAI42083', 'ELE32164', 'ELE26917', 'FRO98729', 'ELE17451', 'GRO15017', 'ELE91337', 'SNA99873', 'ELE17451', 'FRO40251', 'DAI62779', 'GRO44993', 'GRO73461', 'SNA69641', 'DAI88079', 'GRO73461', 'GRO73461', 'SNA88283', 'DAI88079', 'SNA80324', 'FRO40251', 'GRO38983', 'ELE17451', 'GRO81087', 'FRO35904', 'FRO40251', 'GRO15017', 'SNA45677', 'ELE74009', 'SNA80324', 'ELE66810', 'FRO35729', 'DAI62779', 'GRO21487', 'DAI62779', 'DAI83733', 'ELE17451', 'SNA95666', 'ELE66600', 'GRO38983', 'GRO38814', 'SNA45677', 'FRO80039', 'GRO59710', 'GRO73461', 'SNA44190', 'DAI75645', 'DAI88079', 'ELE91337', 'FRO35904', 'DAI75645', 'DAI88807', 'GRO38814', 'SNA55762', 'DAI62779', 'GRO46854', 'GRO73461', 'SNA50789', 'DAI75645', 'SNA38068', 'ELE26917', 'GRO44993', 'FRO40251', 'GRO35122', 'ELE32164', 'SNA80324', 'ELE12845', 'FRO35904', 'GRO88511', 'SNA80324', 'ELE66600', 'FRO40251', 'DAI43223', 'GRO81087', 'DAI22177', 'ELE74009', 'GRO59710', 'GRO61133', 'ELE56788', 'GRO71621', 'SNA45677', 'SNA47306', 'DAI88807', 'FRO31317', 'DAI88807', 'SNA59903', 'ELE17451', 'SNA57865', 'ELE17451', 'FRO35904', 'DAI42493', 'ELE17451', 'DAI75645', 'SNA18336', 'GRO30386', 'GRO69543', 'FRO35904', 'GRO21487', 'FRO53271', 'SNA45677', 'SNA93860', 'SNA99873', 'DAI75645', 'GRO64900', 'ELE32164', 'FRO16142', 'DAI62779', 'SNA42528', 'DAI22896', 'GRO71621', 'DAI83733', 'GRO21487', 'DAI43223', 'GRO30386', 'GRO21487', 'GRO30386', 'DAI59609', 'DAI62779', 'DAI55148', 'SNA80324', 'ELE32164', 'SNA72163', 'DAI85309', 'SNA80324', 'DAI48891', 'ELE78169', 'GRO59710', 'GRO69543', 'ELE32164', 'ELE66810', 'FRO31317', 'SNA88283', 'ELE74009', 'ELE74482', 'DAI42493', 'GRO59710', 'ELE59935', 'GRO71621', 'DAI91290', 'ELE32164', 'GRO38814', 'SNA90094', 'FRO35904', 'FRO78087', 'FRO80039', 'SNA96466', 'ELE66600', 'GRO30386', 'DAI55148', 'DAI85309', 'DAI83733', 'ELE92920', 'DAI92600', 'SNA59903', 'DAI22177', 'GRO94758', 'DAI63921', 'SNA55762', 'ELE20398', 'FRO31317', 'DAI88079', 'FRO40251', 'FRO40251', 'FRO73056', 'FRO92469', 'SNA80324', 'DAI75645', 'GRO38983', 'DAI75645', 'ELE99737', 'GRO73461', 'SNA93860', 'FRO31317', 'FRO32293', 'DAI62779', 'ELE49801', 'FRO40251', 'FRO74605', 'ELE66810', 'SNA45677', 'DAI64292', 'ELE38289', 'DAI91290', 'GRO30386', 'GRO30386', 'SNA72163', 'FRO32293', 'FRO85978', 'DAI62779', 'GRO88324', 'FRO31317', 'SNA62128', 'ELE91337', 'GRO36567', 'ELE14480', 'ELE66810', 'FRO16142', 'GRO38814', 'ELE26917', 'ELE74009', 'DAI75645', 'GRO81087', 'DAI48891', 'GRO46854', 'ELE17451', 'ELE20847', 'DAI83733', 'ELE66810', 'DAI48891', 'GRO94758', 'DAI75645', 'GRO30386', 'GRO15017', 'GRO56726', 'FRO31317', 'SNA90094', 'DAI43223', 'ELE74009', 'ELE32164', 'GRO38814', 'DAI83733', 'GRO71621', 'DAI48891', 'ELE26917', 'GRO35122', 'GRO73461', 'DAI55148', 'DAI62779', 'ELE37048', 'FRO31317', 'ELE66810', 'FRO53271', 'GRO21487', 'GRO81647', 'DAI83948', 'GRO88511', 'DAI62779', 'FRO99372', 'ELE92920', 'SNA18336', 'ELE34057', 'ELE38289', 'DAI22177', 'FRO78087', 'FRO40251', 'GRO88505', 'DAI42493', 'FRO31317', 'ELE32164', 'SNA62128', 'ELE74009', 'ELE92920', 'FRO78087', 'GRO71621', 'ELE17451', 'FRO99372', 'FRO19221', 'SNA45677', 'DAI62779', 'ELE88263', 'ELE12792', 'FRO80039', 'ELE17451', 'GRO83463', 'FRO85978', 'FRO99783', 'DAI62779', 'DAI87448', 'DAI87448', 'ELE34057', 'FRO78087', 'SNA99873', 'DAI35347', 'ELE17451', 'DAI35347', 'ELE26917', 'ELE26917', 'GRO59710', 'ELE17451', 'ELE66600', 'ELE66600', 'FRO78087', 'DAI62779', 'FRO78087', 'DAI62779', 'GRO38983', 'DAI62779', 'SNA93860', 'DAI91290', 'GRO73461', 'GRO61133', 'SNA45677', 'ELE17451', 'GRO61133', 'ELE17451', 'ELE37048', 'GRO73461', 'SNA80324', 'ELE68605', 'FRO40251', 'FRO35904', 'SNA45677', 'DAI62779', 'ELE66600', 'ELE66600', 'FRO98729', 'FRO32293', 'GRO21487', 'DAI38969', 'FRO19671', 'FRO85978', 'SNA55952', 'DAI75645', 'ELE74009', 'FRO32293', 'FRO80039', 'ELE26917', 'FRO78087', 'ELE53126', 'GRO59710', 'ELE37770', 'ELE74482', 'DAI63921', 'SNA12663', 'DAI63921', 'ELE66810', 'GRO38814', 'SNA99873', 'FRO47962', 'SNA80324', 'GRO38814', 'GRO61133', 'FRO40251', 'GRO94758', 'ELE34057', 'SNA55762', 'GRO56726', 'SNA80324', 'GRO73461', 'GRO81647', 'DAI88807', 'ELE32164', 'DAI75645', 'SNA72163', 'GRO81087', 'SNA45677', 'ELE56788', 'FRO31317', 'FRO75586', 'SNA80324', 'SNA72163', 'SNA80324', 'ELE99737', 'SNA40784', 'DAI42493', 'GRO30386', 'FRO53271', 'GRO30386', 'ELE11111', 'ELE32164', 'GRO69543', 'SNA93860', 'GRO21487', 'SNA90094', 'ELE62598', 'GRO59710', 'DAI85309', 'FRO66272', 'DAI85309', 'SNA96271', 'FRO78087', 'SNA55762', 'FRO99783', 'GRO46854', 'ELE17451', 'ELE66810', 'ELE17451', 'FRO92261', 'ELE17451', 'SNA72163', 'ELE26917', 'FRO31317', 'FRO40251', 'GRO85051', 'DAI63921', 'GRO44993', 'DAI35347', 'ELE32164', 'ELE32164', 'ELE37048', 'ELE32164', 'ELE62598', 'DAI62779', 'DAI88079', 'DAI62779', 'SNA12663', 'ELE99737', 'SNA80324', 'FRO31317', 'FRO35904', 'FRO85978', 'SNA95666', 'DAI63921', 'FRO32293', 'FRO53271', 'GRO85051', 'GRO30386', 'SNA80324', 'GRO30386', 'GRO56726', 'DAI62779', 'SNA35625', 'ELE91337', 'SNA55952', 'DAI62779', 'FRO61354', 'FRO85978', 'SNA20554', 'GRO15017', 'GRO71621', 'ELE12792', 'FRO40251', 'DAI49199', 'ELE20347', 'FRO53271', 'GRO32086', 'FRO31317', 'GRO21487', 'ELE59935', 'FRO40251', 'FRO53271', 'GRO73461', 'DAI31081', 'SNA80324', 'DAI75645', 'ELE53126', 'DAI75645', 'ELE17451', 'FRO31317', 'GRO59710', 'ELE34057', 'FRO31317', 'DAI22896', 'GRO81087', 'FRO40251', 'SNA59903', 'FRO40251', 'FRO75586', 'GRO73461', 'SNA90094', 'ELE14480', 'GRO73461', 'DAI75645', 'ELE68605', 'GRO71621', 'SNA93860', 'DAI62779', 'GRO95519', 'FRO98184', 'GRO30386', 'ELE66600', 'GRO64900', 'DAI95741', 'GRO71621', 'ELE14480', 'GRO88505', 'ELE91337', 'GRO71621', 'FRO40251', 'SNA49107', 'ELE66600', 'SNA66979', 'DAI85309', 'GRO46854', 'ELE66810', 'FRO35904', 'DAI88807', 'ELE20398', 'DAI85309', 'FRO80039', 'GRO46854', 'SNA80324', 'FRO19221', 'SNA93860', 'ELE32164', 'FRO35904', 'DAI50895', 'DAI62779', 'DAI62779', 'ELE53470', 'DAI85309', 'FRO99783']]\n",
            "\n",
            "Singles:\n",
            "[('GRO36567', 832), ('SNA66979', 703), ('FRO62970', 115), ('SNA14713', 188), ('FRO94523', 390), ('DAI88807', 1316), ('SNA96271', 1295), ('ELE15527', 332), ('SNA38068', 811), ('ELE55721', 169)]\n",
            "\n",
            "Explosion:\n",
            "[('ELE17451', (('ELE17451', 'SNA47306'), 88)), ('SNA47306', (('ELE17451', 'SNA47306'), 88)), ('DAI48891', (('DAI48891', 'GRO36567'), 128)), ('GRO36567', (('DAI48891', 'GRO36567'), 128)), ('DAI22896', (('DAI22896', 'SNA72163'), 227)), ('SNA72163', (('DAI22896', 'SNA72163'), 227)), ('FRO31317', (('FRO31317', 'GRO73461'), 395)), ('GRO73461', (('FRO31317', 'GRO73461'), 395)), ('DAI62779', (('DAI62779', 'ELE17451'), 1592)), ('ELE17451', (('DAI62779', 'ELE17451'), 1592))]\n",
            "\n",
            "Joint:\n",
            "[('GRO36567', (832, (('DAI48891', 'GRO36567'), 128))), ('GRO36567', (832, (('FRO85978', 'GRO36567'), 91))), ('GRO36567', (832, (('GRO36567', 'GRO38814'), 135))), ('GRO36567', (832, (('GRO36567', 'SNA96271'), 88))), ('GRO36567', (832, (('FRO80039', 'GRO36567'), 95))), ('GRO36567', (832, (('DAI62779', 'GRO36567'), 182))), ('GRO36567', (832, (('GRO36567', 'SNA80324'), 97))), ('GRO36567', (832, (('FRO40251', 'GRO36567'), 113))), ('GRO36567', (832, (('GRO36567', 'GRO73461'), 117))), ('GRO36567', (832, (('GRO36567', 'SNA45677'), 189)))]\n",
            "\n",
            "Association rules:\n",
            "[\"['DAI93865'] -> ['FRO40251'] Confidence = 100.0%\", \"['GRO85051'] -> ['FRO40251'] Confidence = 99.92%\", \"['GRO38636'] -> ['FRO40251'] Confidence = 99.07%\", \"['ELE12951'] -> ['FRO40251'] Confidence = 99.06%\", \"['DAI88079'] -> ['FRO40251'] Confidence = 98.67%\", \"['FRO92469'] -> ['FRO40251'] Confidence = 98.35%\", \"['DAI43868'] -> ['SNA82528'] Confidence = 97.3%\", \"['DAI23334'] -> ['DAI62779'] Confidence = 95.45%\"]\n",
            "\n",
            "Rules:\n",
            "[\"['DAI93865'] -> ['FRO40251'] Confidence = 100.0%\", \"['GRO85051'] -> ['FRO40251'] Confidence = 99.92%\", \"['GRO38636'] -> ['FRO40251'] Confidence = 99.07%\", \"['ELE12951'] -> ['FRO40251'] Confidence = 99.06%\", \"['DAI88079'] -> ['FRO40251'] Confidence = 98.67%\", \"['FRO92469'] -> ['FRO40251'] Confidence = 98.35%\", \"['DAI43868'] -> ['SNA82528'] Confidence = 97.3%\", \"['DAI23334'] -> ['DAI62779'] Confidence = 95.45%\"]\n",
            "[('ELE17451', 'SNA47306'), ('DAI48891', 'GRO36567'), ('DAI22896', 'SNA72163')]\n",
            "Truly Frequent items:\n",
            "[(('DAI62779', 'ELE17451', 'GRO30386'), 218), (('FRO40251', 'GRO73461', 'SNA80324'), 232), (('DAI55911', 'FRO40251', 'GRO85051'), 133), (('DAI75645', 'GRO61133', 'SNA80324'), 89), (('FRO40251', 'FRO61354', 'SNA80324'), 85), (('FRO40251', 'GRO71621', 'SNA80324'), 142), (('DAI62779', 'FRO40251', 'GRO21487'), 98), (('DAI42493', 'DAI62779', 'ELE92920'), 112), (('DAI62779', 'DAI85309', 'GRO71621'), 116), (('DAI62779', 'ELE92920', 'SNA90094'), 88)]\n",
            "List of freq items:\n",
            "[['DAI62779', 'ELE17451', 'GRO30386', 'FRO40251', 'GRO73461', 'SNA80324', 'DAI55911', 'FRO40251', 'GRO85051', 'DAI75645', 'GRO61133', 'SNA80324', 'FRO40251', 'FRO61354', 'SNA80324', 'FRO40251', 'GRO71621', 'SNA80324', 'DAI62779', 'FRO40251', 'GRO21487', 'DAI42493', 'DAI62779', 'ELE92920', 'DAI62779', 'DAI85309', 'GRO71621', 'DAI62779', 'ELE92920', 'SNA90094', 'DAI62779', 'ELE12792', 'ELE17451', 'DAI62779', 'GRO61133', 'GRO73461', 'DAI62779', 'ELE17451', 'ELE32164', 'FRO40251', 'GRO38814', 'GRO73461', 'FRO40251', 'FRO53271', 'GRO85051', 'DAI83948', 'FRO40251', 'GRO85051', 'DAI62779', 'DAI75645', 'SNA55762', 'DAI88807', 'GRO73461', 'SNA72163', 'DAI75645', 'FRO16142', 'SNA80324', 'DAI62779', 'ELE78169', 'GRO94758', 'DAI75645', 'FRO40251', 'GRO15017', 'DAI75645', 'FRO40251', 'GRO61133', 'DAI43223', 'ELE32164', 'GRO94758', 'ELE92920', 'FRO40251', 'SNA18336', 'DAI62779', 'ELE21353', 'FRO19221', 'DAI62779', 'DAI85309', 'GRO94758', 'DAI88079', 'FRO40251', 'GRO73461', 'FRO31317', 'FRO40251', 'GRO73461', 'DAI62779', 'FRO40251', 'SNA55762', 'ELE17451', 'ELE20847', 'SNA80324', 'DAI75645', 'GRO38814', 'GRO73461', 'DAI75645', 'GRO15017', 'SNA80324', 'FRO40251', 'GRO56726', 'GRO73461', 'DAI62779', 'FRO40251', 'FRO80039', 'DAI62779', 'FRO85978', 'GRO73461', 'DAI48891', 'ELE78169', 'SNA45677', 'DAI42493', 'DAI62779', 'ELE17451', 'DAI62779', 'FRO19221', 'GRO73461', 'DAI62779', 'DAI85309', 'GRO73461', 'DAI62779', 'DAI92600', 'SNA59903', 'ELE17451', 'GRO30386', 'GRO73461', 'DAI62779', 'ELE17451', 'SNA96271', 'DAI62779', 'ELE17451', 'SNA72163', 'DAI62779', 'FRO85978', 'SNA95666', 'DAI62779', 'DAI75645', 'FRO40251', 'DAI75645', 'FRO40251', 'SNA55762', 'DAI62779', 'SNA55762', 'SNA80324', 'DAI62779', 'DAI75645', 'SNA45677', 'FRO40251', 'GRO81087', 'SNA80324', 'DAI75645', 'FRO47962', 'GRO73461', 'DAI62779', 'FRO80039', 'GRO73461', 'DAI85309', 'ELE99737', 'GRO94758', 'DAI62779', 'DAI85309', 'ELE17451', 'DAI62779', 'ELE32164', 'GRO94758', 'DAI23334', 'DAI62779', 'SNA18336', 'DAI62779', 'ELE17451', 'FRO40251', 'DAI88079', 'FRO40251', 'SNA80324', 'FRO40251', 'FRO85978', 'GRO73461', 'ELE20847', 'FRO40251', 'GRO73461', 'DAI75645', 'ELE17451', 'GRO85051', 'DAI75645', 'GRO21487', 'GRO73461', 'DAI85309', 'ELE17451', 'ELE32164', 'DAI85309', 'ELE92920', 'SNA18336', 'DAI62779', 'FRO19221', 'SNA53220', 'DAI62779', 'ELE26917', 'ELE92920', 'DAI88079', 'ELE17451', 'FRO40251', 'DAI62779', 'ELE26917', 'GRO73461', 'ELE26917', 'FRO40251', 'SNA80324', 'ELE17451', 'FRO40251', 'SNA80324', 'DAI83733', 'FRO40251', 'SNA80324', 'DAI75645', 'FRO40251', 'FRO80039', 'DAI31081', 'DAI62779', 'GRO73461', 'DAI88807', 'SNA59903', 'SNA72163', 'FRO40251', 'FRO80039', 'SNA80324', 'DAI55148', 'ELE17451', 'FRO40251', 'DAI55148', 'DAI75645', 'SNA80324', 'DAI42493', 'DAI62779', 'ELE32164', 'DAI62779', 'ELE17451', 'FRO16142', 'DAI62779', 'FRO40251', 'GRO71621', 'DAI85309', 'ELE17451', 'ELE92920', 'DAI62779', 'ELE32164', 'GRO81087', 'DAI62779', 'ELE17451', 'SNA99873', 'DAI62779', 'GRO73461', 'SNA96271', 'DAI62779', 'DAI75645', 'GRO73461', 'DAI75645', 'DAI88079', 'FRO40251', 'DAI75645', 'GRO81087', 'SNA80324', 'DAI55148', 'DAI75645', 'ELE17451', 'ELE20847', 'FRO40251', 'SNA96271', 'DAI42493', 'DAI62779', 'FRO40251', 'DAI62779', 'ELE32164', 'SNA18336', 'DAI55148', 'DAI62779', 'SNA80324', 'DAI55148', 'FRO40251', 'SNA80324', 'DAI62779', 'ELE17451', 'GRO73461', 'DAI62779', 'ELE32164', 'GRO30386', 'DAI62779', 'GRO38814', 'GRO73461', 'ELE26917', 'FRO40251', 'GRO85051', 'DAI62779', 'DAI83733', 'GRO73461', 'DAI75645', 'GRO71621', 'SNA80324', 'DAI55148', 'DAI62779', 'FRO40251', 'DAI62779', 'ELE92920', 'SNA18336', 'DAI42493', 'DAI62779', 'SNA18336', 'ELE17451', 'ELE92920', 'SNA18336', 'DAI62779', 'ELE32164', 'GRO59710', 'DAI62779', 'ELE59935', 'FRO80039', 'DAI62779', 'ELE74009', 'GRO73461', 'DAI75645', 'GRO38814', 'SNA80324', 'DAI75645', 'GRO94758', 'SNA80324', 'DAI62779', 'ELE20847', 'GRO73461', 'DAI62779', 'DAI83733', 'ELE17451', 'DAI75645', 'GRO30386', 'SNA80324', 'DAI75645', 'FRO40251', 'GRO71621', 'DAI85309', 'FRO40251', 'SNA80324', 'DAI85309', 'ELE32164', 'ELE99737', 'DAI85309', 'GRO46854', 'GRO73461', 'DAI75645', 'GRO46854', 'GRO73461', 'DAI62779', 'FRO40251', 'GRO73461', 'DAI62779', 'DAI88079', 'FRO40251', 'DAI75645', 'FRO40251', 'FRO92469', 'DAI62779', 'ELE62598', 'SNA38068', 'DAI62779', 'GRO73461', 'SNA45677', 'DAI62779', 'FRO85978', 'SNA93860', 'DAI62779', 'ELE17451', 'SNA38068', 'DAI75645', 'FRO40251', 'GRO81087', 'FRO40251', 'GRO21487', 'GRO73461', 'DAI75645', 'ELE17451', 'GRO30386', 'ELE17451', 'ELE20847', 'FRO40251', 'DAI62779', 'ELE17451', 'ELE74009', 'DAI85309', 'ELE99737', 'SNA55762', 'DAI62779', 'DAI88807', 'ELE17451', 'ELE17451', 'ELE32164', 'GRO59710', 'DAI85309', 'ELE99737', 'SNA45677', 'DAI62779', 'DAI85309', 'SNA45677', 'ELE17451', 'FRO40251', 'FRO92469', 'DAI75645', 'FRO40251', 'GRO85051', 'DAI22896', 'GRO38814', 'GRO73461', 'ELE59028', 'FRO85978', 'SNA93860', 'DAI75645', 'ELE26917', 'SNA80324', 'ELE32164', 'ELE92920', 'SNA18336', 'DAI62779', 'ELE17451', 'ELE92920', 'DAI62779', 'DAI85309', 'SNA18336', 'DAI62779', 'ELE17451', 'GRO85051', 'FRO40251', 'GRO38814', 'GRO85051', 'DAI75645', 'GRO85051', 'SNA80324', 'FRO40251', 'SNA45677', 'SNA80324', 'DAI22896', 'DAI75645', 'SNA80324', 'DAI75645', 'ELE17451', 'FRO40251', 'ELE32164', 'GRO59710', 'GRO81087', 'DAI62779', 'ELE74009', 'ELE92920', 'DAI62779', 'DAI85309', 'GRO30386', 'DAI62779', 'ELE17451', 'SNA59903', 'DAI31081', 'DAI62779', 'ELE32164', 'DAI62779', 'GRO81087', 'SNA18336', 'DAI62779', 'ELE17451', 'SNA55762', 'DAI62779', 'ELE17451', 'FRO92469', 'DAI62779', 'ELE26917', 'FRO40251', 'DAI62779', 'ELE17451', 'GRO38814', 'FRO40251', 'GRO85051', 'SNA80324', 'FRO40251', 'GRO73461', 'GRO85051', 'DAI62779', 'ELE17451', 'GRO15017', 'ELE32164', 'ELE74009', 'GRO59710', 'DAI62779', 'ELE17451', 'GRO21487', 'FRO40251', 'GRO73461', 'GRO81647', 'DAI85309', 'FRO40251', 'GRO85051', 'DAI62779', 'DAI85309', 'FRO19221', 'DAI43223', 'DAI62779', 'GRO59710', 'DAI62779', 'GRO30386', 'GRO73461', 'FRO40251', 'FRO92469', 'GRO73461', 'FRO40251', 'SNA55762', 'SNA80324', 'DAI62779', 'GRO73461', 'SNA99873', 'DAI62779', 'ELE20847', 'FRO40251', 'DAI43223', 'ELE32164', 'GRO59710', 'DAI31081', 'DAI43223', 'ELE32164', 'ELE32164', 'GRO59710', 'SNA45677', 'ELE78169', 'GRO94758', 'SNA45677', 'ELE20847', 'FRO40251', 'FRO92469', 'DAI55148', 'FRO40251', 'FRO92469', 'ELE32164', 'FRO53271', 'GRO59710', 'DAI62779', 'DAI85309', 'FRO40251', 'DAI62779', 'ELE78169', 'SNA45677', 'DAI62779', 'ELE17451', 'ELE56788', 'ELE92920', 'GRO81087', 'SNA18336', 'DAI62779', 'ELE32164', 'GRO73461', 'DAI62779', 'GRO73461', 'SNA80324', 'ELE17451', 'GRO85051', 'SNA80324', 'ELE17451', 'GRO73461', 'SNA80324', 'DAI62779', 'ELE17451', 'GRO81087', 'ELE20847', 'FRO40251', 'SNA80324', 'DAI62779', 'ELE92920', 'FRO40251', 'DAI62779', 'DAI75645', 'ELE20847', 'DAI62779', 'DAI88807', 'SNA59903', 'DAI88807', 'ELE17451', 'SNA72163', 'DAI62779', 'FRO92469', 'SNA80324', 'DAI62779', 'GRO94758', 'SNA80324', 'DAI62779', 'GRO46854', 'GRO73461', 'DAI75645', 'SNA80324', 'SNA96271', 'DAI62779', 'GRO30386', 'SNA80324', 'DAI62779', 'GRO59710', 'GRO73461', 'FRO40251', 'GRO21487', 'SNA80324', 'DAI31081', 'FRO40251', 'SNA80324', 'DAI42083', 'DAI62779', 'SNA59903', 'DAI75645', 'FRO40251', 'SNA80324', 'ELE74009', 'FRO40251', 'GRO85051', 'DAI75645', 'FRO53271', 'SNA80324', 'DAI62779', 'DAI75645', 'GRO85051', 'DAI62779', 'GRO30386', 'GRO59710', 'DAI85309', 'ELE99737', 'FRO19221', 'DAI23334', 'DAI62779', 'ELE92920', 'ELE17451', 'FRO40251', 'GRO73461', 'ELE17451', 'FRO40251', 'GRO85051', 'FRO40251', 'GRO38814', 'SNA80324', 'DAI91290', 'FRO40251', 'FRO92469', 'DAI62779', 'GRO73461', 'SNA55762', 'DAI75645', 'FRO40251', 'GRO38814', 'DAI75645', 'FRO40251', 'SNA90094', 'DAI62779', 'ELE32164', 'ELE92920', 'DAI62779', 'DAI85309', 'ELE99737', 'DAI42083', 'DAI62779', 'DAI92600', 'DAI91290', 'FRO40251', 'SNA80324', 'DAI62779', 'FRO40251', 'GRO94758', 'DAI75645', 'ELE17451', 'SNA80324', 'DAI55148', 'DAI62779', 'DAI75645', 'DAI31081', 'DAI62779', 'ELE17451', 'DAI55148', 'ELE17451', 'SNA80324', 'DAI75645', 'DAI85309', 'FRO40251', 'DAI88807', 'ELE17451', 'SNA59903', 'FRO19221', 'SNA53220', 'SNA93860', 'DAI62779', 'ELE92920', 'GRO81087', 'DAI62779', 'ELE17451', 'SNA80324', 'FRO40251', 'GRO85051', 'SNA45677', 'FRO40251', 'FRO78087', 'SNA80324', 'DAI62779', 'DAI75645', 'GRO94758', 'DAI62779', 'GRO21487', 'GRO73461', 'DAI31081', 'FRO40251', 'GRO85051', 'DAI75645', 'ELE26917', 'FRO40251', 'DAI62779', 'SNA53220', 'SNA93860', 'DAI22177', 'DAI62779', 'ELE17451', 'DAI62779', 'ELE17451', 'SNA18336', 'DAI62779', 'DAI83733', 'DAI85309', 'ELE53126', 'FRO31317', 'FRO53271', 'DAI62779', 'DAI75645', 'ELE92920', 'ELE17451', 'SNA59903', 'SNA72163', 'DAI62779', 'ELE17451', 'FRO78087', 'DAI62779', 'FRO40251', 'GRO38814', 'DAI75645', 'FRO92469', 'SNA80324', 'ELE74009', 'FRO40251', 'SNA80324', 'DAI62779', 'GRO94758', 'SNA45677', 'DAI75645', 'SNA55762', 'SNA80324', 'DAI62779', 'GRO71621', 'GRO73461', 'DAI62779', 'FRO40251', 'GRO30386', 'DAI75645', 'ELE17451', 'GRO73461', 'DAI62779', 'DAI88807', 'SNA72163', 'DAI62779', 'FRO40251', 'SNA45677', 'DAI62779', 'DAI88807', 'GRO73461', 'GRO21487', 'GRO73461', 'GRO81647', 'DAI43223', 'ELE17451', 'GRO59710', 'DAI85309', 'ELE17451', 'GRO73461', 'DAI62779', 'DAI75645', 'DAI85309', 'DAI62779', 'DAI85309', 'ELE32164', 'DAI43223', 'ELE17451', 'ELE32164', 'FRO40251', 'GRO69543', 'GRO73461', 'DAI62779', 'DAI91290', 'ELE17451', 'DAI75645', 'FRO40251', 'FRO53271', 'DAI62779', 'SNA45677', 'SNA80324', 'FRO40251', 'GRO94758', 'SNA80324', 'DAI31081', 'DAI75645', 'FRO40251', 'DAI75645', 'DAI85309', 'SNA80324', 'DAI42493', 'ELE32164', 'GRO59710', 'DAI62779', 'DAI85309', 'GRO46854', 'DAI62779', 'DAI85309', 'ELE26917', 'DAI62779', 'FRO19221', 'SNA93860', 'DAI62779', 'DAI85309', 'SNA55762', 'DAI62779', 'ELE17451', 'SNA45677', 'DAI62779', 'FRO31317', 'GRO73461', 'DAI62779', 'SNA59903', 'SNA72163', 'ELE32164', 'GRO59710', 'GRO73461', 'DAI62779', 'ELE92920', 'GRO59710', 'DAI62779', 'DAI83733', 'ELE92920', 'DAI62779', 'ELE17451', 'FRO31317', 'DAI62779', 'ELE26917', 'SNA80324', 'DAI62779', 'FRO40251', 'GRO85051', 'FRO40251', 'GRO61133', 'SNA80324', 'DAI75645', 'FRO40251', 'GRO21487', 'ELE32164', 'GRO38814', 'GRO59710', 'DAI75645', 'FRO85978', 'GRO73461', 'DAI31081', 'ELE32164', 'GRO59710', 'FRO40251', 'GRO85051', 'GRO94758', 'DAI62779', 'DAI75645', 'ELE17451', 'FRO40251', 'GRO21487', 'GRO85051', 'ELE32164', 'GRO59710', 'GRO94758', 'DAI62779', 'ELE92920', 'GRO71621', 'DAI62779', 'GRO15017', 'SNA18336', 'ELE92920', 'GRO15017', 'SNA18336', 'DAI62779', 'ELE17451', 'ELE20847', 'DAI75645', 'FRO40251', 'GRO73461', 'FRO40251', 'SNA80324', 'SNA96271', 'DAI62779', 'DAI75645', 'SNA80324', 'DAI62779', 'ELE17451', 'GRO46854', 'DAI62779', 'GRO56726', 'GRO73461', 'DAI22896', 'DAI62779', 'GRO73461', 'ELE20847', 'FRO40251', 'GRO85051', 'DAI75645', 'ELE20847', 'FRO40251', 'DAI75645', 'FRO31317', 'FRO40251', 'DAI62779', 'ELE17451', 'FRO80039', 'DAI55148', 'DAI75645', 'FRO40251', 'DAI62779', 'ELE92920', 'GRO15017', 'DAI62779', 'FRO40251', 'SNA80324', 'FRO40251', 'FRO92469', 'SNA80324', 'DAI62779', 'ELE59028', 'SNA93860', 'FRO40251', 'FRO53271', 'SNA80324', 'DAI62779', 'DAI75645', 'ELE26917', 'DAI75645', 'FRO40251', 'GRO69543', 'DAI42493', 'FRO40251', 'GRO85051', 'DAI75645', 'FRO40251', 'SNA99873', 'FRO40251', 'GRO85051', 'SNA55762', 'DAI55148', 'DAI62779', 'ELE17451', 'DAI75645', 'FRO40251', 'FRO78087', 'DAI75645', 'FRO40251', 'GRO30386', 'DAI62779', 'FRO40251', 'SNA18336', 'FRO40251', 'GRO46854', 'GRO73461', 'DAI42083', 'DAI92600', 'ELE17451', 'DAI62779', 'ELE17451', 'ELE26917', 'DAI62779', 'GRO85051', 'SNA80324', 'DAI75645', 'SNA45677', 'SNA80324', 'DAI62779', 'ELE59028', 'FRO85978', 'FRO73056', 'GRO44993', 'GRO73461', 'DAI43223', 'ELE32164', 'GRO73461', 'DAI62779', 'GRO73461', 'GRO81647', 'DAI62779', 'GRO71621', 'SNA80324', 'DAI62779', 'ELE17451', 'GRO94758', 'DAI43223', 'DAI62779', 'ELE17451', 'DAI62779', 'ELE17451', 'SNA90094', 'DAI43223', 'DAI62779', 'ELE92920', 'DAI62779', 'DAI87448', 'GRO73461', 'DAI42083', 'DAI92600', 'SNA59903', 'DAI62779', 'GRO15017', 'GRO73461', 'DAI75645', 'ELE74009', 'SNA80324', 'DAI75645', 'FRO40251', 'GRO94758', 'ELE17451', 'GRO30386', 'SNA80324', 'DAI62779', 'DAI75645', 'GRO38814', 'DAI62779', 'DAI75645', 'GRO30386', 'DAI75645', 'ELE20847', 'SNA80324', 'DAI62779', 'ELE92920', 'SNA80324', 'ELE17451', 'GRO21487', 'GRO73461', 'DAI42493', 'ELE92920', 'SNA18336', 'DAI62779', 'SNA45677', 'SNA96271', 'DAI62779', 'DAI85309', 'ELE92920', 'GRO21487', 'GRO46854', 'GRO73461', 'ELE17451', 'FRO31317', 'GRO73461', 'DAI62779', 'ELE17451', 'GRO61133', 'DAI62779', 'FRO40251', 'FRO92469', 'DAI55911', 'DAI75645', 'FRO40251', 'DAI75645', 'ELE74009', 'FRO40251', 'DAI63921', 'FRO85978', 'SNA95666', 'DAI62779', 'ELE20847', 'SNA80324', 'GRO21487', 'GRO73461', 'SNA80324', 'DAI62779', 'ELE17451', 'GRO59710', 'DAI85309', 'ELE17451', 'SNA18336', 'DAI23334', 'DAI62779', 'ELE17451', 'DAI75645', 'GRO73461', 'SNA80324', 'FRO40251', 'GRO30386', 'SNA80324', 'DAI75645', 'ELE11111', 'SNA80324', 'DAI75645', 'FRO40251', 'SNA45677', 'DAI43223', 'DAI62779', 'ELE32164', 'DAI62779', 'ELE17451', 'GRO71621', 'DAI62779', 'DAI85309', 'FRO80039']]\n",
            "\n",
            "Singles:\n",
            "[(('ELE17451', 'SNA47306'), 88), (('DAI48891', 'GRO36567'), 128), (('DAI22896', 'SNA72163'), 227), (('FRO31317', 'GRO73461'), 395), (('DAI62779', 'ELE17451'), 1592), (('DAI62779', 'FRO32293'), 299), (('ELE17451', 'SNA45677'), 304), (('FRO40251', 'FRO78087'), 215), (('DAI62779', 'ELE20398'), 113), (('FRO40251', 'FRO92469'), 835)]\n",
            "\n",
            "Explosion:\n",
            "[(('DAI62779', 'ELE17451'), (('DAI62779', 'ELE17451', 'GRO30386'), 218)), (('DAI62779', 'GRO30386'), (('DAI62779', 'ELE17451', 'GRO30386'), 218)), (('ELE17451', 'GRO30386'), (('DAI62779', 'ELE17451', 'GRO30386'), 218)), (('FRO40251', 'GRO73461'), (('FRO40251', 'GRO73461', 'SNA80324'), 232)), (('FRO40251', 'SNA80324'), (('FRO40251', 'GRO73461', 'SNA80324'), 232)), (('GRO73461', 'SNA80324'), (('FRO40251', 'GRO73461', 'SNA80324'), 232)), (('DAI55911', 'FRO40251'), (('DAI55911', 'FRO40251', 'GRO85051'), 133)), (('DAI55911', 'GRO85051'), (('DAI55911', 'FRO40251', 'GRO85051'), 133)), (('FRO40251', 'GRO85051'), (('DAI55911', 'FRO40251', 'GRO85051'), 133)), (('DAI75645', 'GRO61133'), (('DAI75645', 'GRO61133', 'SNA80324'), 89))]\n",
            "\n",
            "Joint:\n",
            "[(('FRO31317', 'GRO73461'), (395, (('FRO31317', 'FRO40251', 'GRO73461'), 89))), (('FRO31317', 'GRO73461'), (395, (('DAI62779', 'FRO31317', 'GRO73461'), 100))), (('FRO31317', 'GRO73461'), (395, (('ELE17451', 'FRO31317', 'GRO73461'), 93))), (('FRO40251', 'FRO92469'), (835, (('DAI75645', 'FRO40251', 'FRO92469'), 251))), (('FRO40251', 'FRO92469'), (835, (('ELE17451', 'FRO40251', 'FRO92469'), 162))), (('FRO40251', 'FRO92469'), (835, (('FRO40251', 'FRO92469', 'GRO73461'), 211))), (('FRO40251', 'FRO92469'), (835, (('ELE20847', 'FRO40251', 'FRO92469'), 122))), (('FRO40251', 'FRO92469'), (835, (('DAI55148', 'FRO40251', 'FRO92469'), 105))), (('FRO40251', 'FRO92469'), (835, (('DAI91290', 'FRO40251', 'FRO92469'), 93))), (('FRO40251', 'FRO92469'), (835, (('FRO40251', 'FRO92469', 'SNA80324'), 343)))]\n",
            "\n",
            "Association rules:\n",
            "[\"['ELE74009', 'GRO85051'] -> ['FRO40251'] Confidence = 100.0%\", \"['DAI85309', 'GRO85051'] -> ['FRO40251'] Confidence = 100.0%\", \"['ELE26917', 'GRO85051'] -> ['FRO40251'] Confidence = 100.0%\", \"['GRO85051', 'SNA45677'] -> ['FRO40251'] Confidence = 100.0%\", \"['GRO38814', 'GRO85051'] -> ['FRO40251'] Confidence = 100.0%\", \"['ELE20847', 'FRO92469'] -> ['FRO40251'] Confidence = 100.0%\", \"['GRO73461', 'GRO85051'] -> ['FRO40251'] Confidence = 100.0%\", \"['GRO85051', 'SNA80324'] -> ['FRO40251'] Confidence = 100.0%\", \"['GRO21487', 'GRO85051'] -> ['FRO40251'] Confidence = 100.0%\", \"['DAI55911', 'GRO85051'] -> ['FRO40251'] Confidence = 100.0%\", \"['GRO85051', 'SNA55762'] -> ['FRO40251'] Confidence = 100.0%\", \"['DAI23334', 'SNA18336'] -> ['DAI62779'] Confidence = 100.0%\", \"['DAI31081', 'GRO85051'] -> ['FRO40251'] Confidence = 100.0%\", \"['GRO85051', 'GRO94758'] -> ['FRO40251'] Confidence = 100.0%\", \"['DAI75645', 'GRO85051'] -> ['FRO40251'] Confidence = 100.0%\"]\n",
            "\n",
            "Rules:\n",
            "[\"['DAI93865'] -> ['FRO40251'] Confidence = 100.0%\", \"['GRO85051'] -> ['FRO40251'] Confidence = 99.92%\", \"['GRO38636'] -> ['FRO40251'] Confidence = 99.07%\", \"['ELE12951'] -> ['FRO40251'] Confidence = 99.06%\", \"['DAI88079'] -> ['FRO40251'] Confidence = 98.67%\", \"['FRO92469'] -> ['FRO40251'] Confidence = 98.35%\", \"['DAI43868'] -> ['SNA82528'] Confidence = 97.3%\", \"['DAI23334'] -> ['DAI62779'] Confidence = 95.45%\", \"['ELE74009', 'GRO85051'] -> ['FRO40251'] Confidence = 100.0%\", \"['DAI85309', 'GRO85051'] -> ['FRO40251'] Confidence = 100.0%\"]\n",
            "[('DAI62779', 'ELE17451', 'GRO30386'), ('FRO40251', 'GRO73461', 'SNA80324'), ('DAI55911', 'FRO40251', 'GRO85051')]\n",
            "Truly Frequent items:\n",
            "[(('DAI62779', 'FRO40251', 'FRO92469', 'SNA80324'), 111), (('DAI62779', 'DAI75645', 'GRO85051', 'SNA80324'), 102), (('DAI62779', 'DAI85309', 'ELE17451', 'ELE92920'), 135), (('DAI62779', 'FRO40251', 'GRO85051', 'SNA80324'), 205), (('DAI75645', 'ELE17451', 'FRO40251', 'SNA80324'), 184), (('DAI62779', 'ELE17451', 'FRO40251', 'GRO85051'), 178), (('DAI75645', 'FRO40251', 'FRO92469', 'SNA80324'), 116), (('DAI75645', 'ELE17451', 'FRO40251', 'GRO85051'), 98), (('DAI43223', 'DAI62779', 'ELE17451', 'GRO59710'), 120), (('DAI62779', 'ELE59028', 'FRO85978', 'SNA93860'), 118)]\n",
            "List of freq items:\n",
            "[['DAI62779', 'FRO40251', 'FRO92469', 'SNA80324', 'DAI62779', 'DAI75645', 'GRO85051', 'SNA80324', 'DAI62779', 'DAI85309', 'ELE17451', 'ELE92920', 'DAI62779', 'FRO40251', 'GRO85051', 'SNA80324', 'DAI75645', 'ELE17451', 'FRO40251', 'SNA80324', 'DAI62779', 'ELE17451', 'FRO40251', 'GRO85051', 'DAI75645', 'FRO40251', 'FRO92469', 'SNA80324', 'DAI75645', 'ELE17451', 'FRO40251', 'GRO85051', 'DAI43223', 'DAI62779', 'ELE17451', 'GRO59710', 'DAI62779', 'ELE59028', 'FRO85978', 'SNA93860', 'DAI85309', 'ELE17451', 'ELE92920', 'SNA18336', 'DAI62779', 'ELE17451', 'GRO85051', 'SNA80324', 'DAI62779', 'DAI75645', 'FRO40251', 'GRO73461', 'DAI62779', 'ELE20847', 'FRO40251', 'SNA80324', 'DAI62779', 'DAI75645', 'GRO30386', 'SNA80324', 'DAI62779', 'ELE32164', 'ELE92920', 'SNA18336', 'DAI62779', 'FRO19221', 'SNA53220', 'SNA93860', 'DAI62779', 'ELE17451', 'FRO40251', 'SNA80324', 'DAI75645', 'ELE20847', 'FRO40251', 'SNA80324', 'DAI62779', 'DAI75645', 'ELE17451', 'FRO40251', 'DAI62779', 'ELE92920', 'FRO40251', 'SNA18336', 'DAI43223', 'DAI62779', 'ELE17451', 'ELE32164', 'DAI62779', 'ELE92920', 'GRO81087', 'SNA18336', 'DAI75645', 'FRO40251', 'GRO85051', 'SNA80324', 'DAI62779', 'ELE17451', 'ELE92920', 'SNA18336', 'DAI43223', 'DAI62779', 'ELE32164', 'GRO59710', 'DAI62779', 'FRO40251', 'GRO73461', 'SNA80324', 'DAI62779', 'ELE92920', 'GRO15017', 'SNA18336', 'ELE17451', 'FRO40251', 'GRO85051', 'SNA80324', 'DAI62779', 'DAI75645', 'FRO40251', 'GRO85051', 'DAI62779', 'DAI85309', 'ELE17451', 'SNA18336', 'DAI62779', 'ELE17451', 'ELE32164', 'GRO59710', 'DAI43223', 'ELE17451', 'ELE32164', 'GRO59710', 'DAI62779', 'DAI75645', 'FRO40251', 'SNA80324', 'DAI62779', 'DAI85309', 'ELE92920', 'SNA18336', 'DAI75645', 'FRO40251', 'GRO73461', 'SNA80324', 'DAI62779', 'ELE17451', 'FRO40251', 'FRO92469', 'DAI62779', 'DAI75645', 'ELE17451', 'SNA80324', 'DAI42493', 'DAI62779', 'ELE92920', 'SNA18336']]\n",
            "\n",
            "Singles:\n",
            "[(('DAI62779', 'ELE17451', 'GRO30386'), 218), (('FRO40251', 'GRO73461', 'SNA80324'), 232), (('DAI55911', 'FRO40251', 'GRO85051'), 133), (('DAI75645', 'GRO61133', 'SNA80324'), 89), (('FRO40251', 'FRO61354', 'SNA80324'), 85), (('FRO40251', 'GRO71621', 'SNA80324'), 142), (('DAI62779', 'FRO40251', 'GRO21487'), 98), (('DAI42493', 'DAI62779', 'ELE92920'), 112), (('DAI62779', 'DAI85309', 'GRO71621'), 116), (('DAI62779', 'ELE92920', 'SNA90094'), 88)]\n",
            "\n",
            "Explosion:\n",
            "[(('DAI62779', 'FRO40251', 'FRO92469'), (('DAI62779', 'FRO40251', 'FRO92469', 'SNA80324'), 111)), (('DAI62779', 'FRO40251', 'SNA80324'), (('DAI62779', 'FRO40251', 'FRO92469', 'SNA80324'), 111)), (('DAI62779', 'FRO92469', 'SNA80324'), (('DAI62779', 'FRO40251', 'FRO92469', 'SNA80324'), 111)), (('FRO40251', 'FRO92469', 'SNA80324'), (('DAI62779', 'FRO40251', 'FRO92469', 'SNA80324'), 111)), (('DAI62779', 'DAI75645', 'GRO85051'), (('DAI62779', 'DAI75645', 'GRO85051', 'SNA80324'), 102)), (('DAI62779', 'DAI75645', 'SNA80324'), (('DAI62779', 'DAI75645', 'GRO85051', 'SNA80324'), 102)), (('DAI62779', 'GRO85051', 'SNA80324'), (('DAI62779', 'DAI75645', 'GRO85051', 'SNA80324'), 102)), (('DAI75645', 'GRO85051', 'SNA80324'), (('DAI62779', 'DAI75645', 'GRO85051', 'SNA80324'), 102)), (('DAI62779', 'DAI85309', 'ELE17451'), (('DAI62779', 'DAI85309', 'ELE17451', 'ELE92920'), 135)), (('DAI62779', 'DAI85309', 'ELE92920'), (('DAI62779', 'DAI85309', 'ELE17451', 'ELE92920'), 135))]\n",
            "\n",
            "Joint:\n",
            "[(('DAI42493', 'DAI62779', 'ELE92920'), (112, (('DAI42493', 'DAI62779', 'ELE92920', 'SNA18336'), 92))), (('ELE92920', 'FRO40251', 'SNA18336'), (94, (('DAI62779', 'ELE92920', 'FRO40251', 'SNA18336'), 89))), (('DAI62779', 'DAI85309', 'ELE17451'), (339, (('DAI62779', 'DAI85309', 'ELE17451', 'ELE92920'), 135))), (('DAI62779', 'DAI85309', 'ELE17451'), (339, (('DAI62779', 'DAI85309', 'ELE17451', 'SNA18336'), 114))), (('DAI62779', 'ELE17451', 'FRO40251'), (406, (('DAI62779', 'ELE17451', 'FRO40251', 'GRO85051'), 178))), (('DAI62779', 'ELE17451', 'FRO40251'), (406, (('DAI62779', 'ELE17451', 'FRO40251', 'SNA80324'), 265))), (('DAI62779', 'ELE17451', 'FRO40251'), (406, (('DAI62779', 'DAI75645', 'ELE17451', 'FRO40251'), 186))), (('DAI62779', 'ELE17451', 'FRO40251'), (406, (('DAI62779', 'ELE17451', 'FRO40251', 'FRO92469'), 93))), (('DAI75645', 'ELE17451', 'GRO85051'), (98, (('DAI75645', 'ELE17451', 'FRO40251', 'GRO85051'), 98))), (('DAI85309', 'ELE92920', 'SNA18336'), (139, (('DAI85309', 'ELE17451', 'ELE92920', 'SNA18336'), 106)))]\n",
            "\n",
            "Association rules:\n",
            "[\"['DAI75645', 'ELE17451', 'GRO85051'] -> ['FRO40251'] Confidence = 100.0%\", \"['ELE17451', 'ELE92920', 'SNA18336'] -> ['DAI62779'] Confidence = 100.0%\", \"['DAI75645', 'GRO85051', 'SNA80324'] -> ['FRO40251'] Confidence = 100.0%\", \"['ELE92920', 'GRO81087', 'SNA18336'] -> ['DAI62779'] Confidence = 100.0%\", \"['DAI62779', 'DAI75645', 'GRO85051'] -> ['FRO40251'] Confidence = 100.0%\", \"['DAI62779', 'GRO85051', 'SNA80324'] -> ['FRO40251'] Confidence = 100.0%\", \"['DAI62779', 'ELE17451', 'GRO85051'] -> ['FRO40251'] Confidence = 100.0%\", \"['DAI62779', 'GRO81087', 'SNA18336'] -> ['ELE92920'] Confidence = 100.0%\", \"['ELE17451', 'GRO85051', 'SNA80324'] -> ['FRO40251'] Confidence = 100.0%\", \"['ELE92920', 'GRO15017', 'SNA18336'] -> ['DAI62779'] Confidence = 100.0%\", \"['DAI62779', 'ELE17451', 'FRO92469'] -> ['FRO40251'] Confidence = 98.94%\", \"['DAI85309', 'ELE17451', 'ELE92920'] -> ['DAI62779'] Confidence = 98.54%\", \"['DAI75645', 'FRO92469', 'SNA80324'] -> ['FRO40251'] Confidence = 97.48%\", \"['DAI42493', 'ELE92920', 'SNA18336'] -> ['DAI62779'] Confidence = 96.84%\", \"['ELE59028', 'FRO85978', 'SNA93860'] -> ['DAI62779'] Confidence = 96.72%\"]\n",
            "\n",
            "Rules:\n",
            "[\"['DAI93865'] -> ['FRO40251'] Confidence = 100.0%\", \"['GRO85051'] -> ['FRO40251'] Confidence = 99.92%\", \"['GRO38636'] -> ['FRO40251'] Confidence = 99.07%\", \"['ELE12951'] -> ['FRO40251'] Confidence = 99.06%\", \"['DAI88079'] -> ['FRO40251'] Confidence = 98.67%\", \"['FRO92469'] -> ['FRO40251'] Confidence = 98.35%\", \"['DAI43868'] -> ['SNA82528'] Confidence = 97.3%\", \"['DAI23334'] -> ['DAI62779'] Confidence = 95.45%\", \"['ELE74009', 'GRO85051'] -> ['FRO40251'] Confidence = 100.0%\", \"['DAI85309', 'GRO85051'] -> ['FRO40251'] Confidence = 100.0%\"]\n"
          ],
          "name": "stdout"
        }
      ]
    },
    {
      "cell_type": "code",
      "metadata": {
        "id": "iNCemB6vtO25"
      },
      "source": [
        "rools.coalesce(1).saveAsTextFile('/content/drive/My Drive/Big Data Analytics/Project 1/Results2')"
      ],
      "execution_count": null,
      "outputs": []
    },
    {
      "cell_type": "code",
      "metadata": {
        "id": "HZzObGZ-PNhv",
        "outputId": "867a52bb-30f4-4030-aba2-cc823cfe57e0",
        "colab": {
          "base_uri": "https://localhost:8080/",
          "height": 102
        }
      },
      "source": [
        "rools.take(5)"
      ],
      "execution_count": null,
      "outputs": [
        {
          "output_type": "execute_result",
          "data": {
            "text/plain": [
              "[\"['DAI93865'] -> ['FRO40251'] Confidence = 100.0%\",\n",
              " \"['GRO85051'] -> ['FRO40251'] Confidence = 99.92%\",\n",
              " \"['GRO38636'] -> ['FRO40251'] Confidence = 99.07%\",\n",
              " \"['ELE12951'] -> ['FRO40251'] Confidence = 99.06%\",\n",
              " \"['DAI88079'] -> ['FRO40251'] Confidence = 98.67%\"]"
            ]
          },
          "metadata": {
            "tags": []
          },
          "execution_count": 118
        }
      ]
    },
    {
      "cell_type": "code",
      "metadata": {
        "id": "Oh8bYPiUVYmn"
      },
      "source": [
        ""
      ],
      "execution_count": null,
      "outputs": []
    }
  ]
}